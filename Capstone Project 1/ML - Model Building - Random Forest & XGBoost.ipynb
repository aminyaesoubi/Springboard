{
 "cells": [
  {
   "cell_type": "code",
   "execution_count": 1,
   "metadata": {},
   "outputs": [],
   "source": [
    "import pandas as pd\n",
    "import numpy as np\n",
    "from datetime import datetime\n",
    "import matplotlib.pyplot as plt\n",
    "import seaborn as sns\n",
    "from sklearn import ensemble\n",
    "from sklearn.model_selection import train_test_split , RandomizedSearchCV , StratifiedShuffleSplit\n",
    "import xgboost as xgb"
   ]
  },
  {
   "cell_type": "code",
   "execution_count": 2,
   "metadata": {},
   "outputs": [
    {
     "data": {
      "text/plain": [
       "(                                      Title                        Genres\n",
       " MovieID                                                                  \n",
       " 1                          Toy Story (1995)   Animation|Children's|Comedy\n",
       " 2                            Jumanji (1995)  Adventure|Children's|Fantasy\n",
       " 3                   Grumpier Old Men (1995)                Comedy|Romance\n",
       " 4                  Waiting to Exhale (1995)                  Comedy|Drama\n",
       " 5        Father of the Bride Part II (1995)                        Comedy,\n",
       "        Gender  Age  Occupation Zip-code\n",
       " UserID                                 \n",
       " 1           F    1          10    48067\n",
       " 2           M   56          16    70072\n",
       " 3           M   25          15    55117\n",
       " 4           M   45           7    02460\n",
       " 5           M   25          20    55455,\n",
       "    UserID  MovieID  Rating  Timestamp\n",
       " 0       1     1193       5  978300760\n",
       " 1       1      661       3  978302109\n",
       " 2       1      914       3  978301968\n",
       " 3       1     3408       4  978300275\n",
       " 4       1     2355       5  978824291)"
      ]
     },
     "execution_count": 2,
     "metadata": {},
     "output_type": "execute_result"
    }
   ],
   "source": [
    "movies = pd.read_csv('Dataset/movies.dat', sep = '::', engine='python',\n",
    "                     names=['MovieID','Title','Genres'],index_col ='MovieID' )\n",
    "users = pd.read_csv('Dataset/users.dat', sep = '::', engine='python',\n",
    "                     names=['UserID','Gender','Age','Occupation','Zip-code'],index_col ='UserID' )\n",
    "ratings = pd.read_csv('Dataset/ratings.dat', sep = '::', engine='python',\n",
    "                     names=['UserID','MovieID','Rating','Timestamp'])#,index_col =['UserID','MovieID'] )\n",
    "movies.shape , users.shape , ratings.shape\n",
    "movies.head() , users.head() , ratings.head()"
   ]
  },
  {
   "cell_type": "markdown",
   "metadata": {},
   "source": [
    "# Data Wrangling"
   ]
  },
  {
   "cell_type": "code",
   "execution_count": 3,
   "metadata": {},
   "outputs": [
    {
     "data": {
      "text/html": [
       "<div>\n",
       "<style scoped>\n",
       "    .dataframe tbody tr th:only-of-type {\n",
       "        vertical-align: middle;\n",
       "    }\n",
       "\n",
       "    .dataframe tbody tr th {\n",
       "        vertical-align: top;\n",
       "    }\n",
       "\n",
       "    .dataframe thead th {\n",
       "        text-align: right;\n",
       "    }\n",
       "</style>\n",
       "<table border=\"1\" class=\"dataframe\">\n",
       "  <thead>\n",
       "    <tr style=\"text-align: right;\">\n",
       "      <th></th>\n",
       "      <th>UserID</th>\n",
       "      <th>Gender</th>\n",
       "      <th>Age</th>\n",
       "      <th>Occupation</th>\n",
       "      <th>Rating</th>\n",
       "      <th>MovieID</th>\n",
       "      <th>Title</th>\n",
       "      <th>Year</th>\n",
       "      <th>Genres</th>\n",
       "    </tr>\n",
       "  </thead>\n",
       "  <tbody>\n",
       "    <tr>\n",
       "      <th>0</th>\n",
       "      <td>1</td>\n",
       "      <td>F</td>\n",
       "      <td>Under 18</td>\n",
       "      <td>K-12 student</td>\n",
       "      <td>5</td>\n",
       "      <td>1193</td>\n",
       "      <td>One Flew Over the Cuckoo's Nest (1975)</td>\n",
       "      <td>2000</td>\n",
       "      <td>Drama</td>\n",
       "    </tr>\n",
       "    <tr>\n",
       "      <th>1</th>\n",
       "      <td>2</td>\n",
       "      <td>M</td>\n",
       "      <td>56+</td>\n",
       "      <td>self-employed</td>\n",
       "      <td>5</td>\n",
       "      <td>1193</td>\n",
       "      <td>One Flew Over the Cuckoo's Nest (1975)</td>\n",
       "      <td>2000</td>\n",
       "      <td>Drama</td>\n",
       "    </tr>\n",
       "    <tr>\n",
       "      <th>2</th>\n",
       "      <td>12</td>\n",
       "      <td>M</td>\n",
       "      <td>25-34</td>\n",
       "      <td>programmer</td>\n",
       "      <td>4</td>\n",
       "      <td>1193</td>\n",
       "      <td>One Flew Over the Cuckoo's Nest (1975)</td>\n",
       "      <td>2000</td>\n",
       "      <td>Drama</td>\n",
       "    </tr>\n",
       "    <tr>\n",
       "      <th>3</th>\n",
       "      <td>15</td>\n",
       "      <td>M</td>\n",
       "      <td>25-34</td>\n",
       "      <td>executive/managerial</td>\n",
       "      <td>4</td>\n",
       "      <td>1193</td>\n",
       "      <td>One Flew Over the Cuckoo's Nest (1975)</td>\n",
       "      <td>2000</td>\n",
       "      <td>Drama</td>\n",
       "    </tr>\n",
       "    <tr>\n",
       "      <th>4</th>\n",
       "      <td>17</td>\n",
       "      <td>M</td>\n",
       "      <td>50-55</td>\n",
       "      <td>academic/educator</td>\n",
       "      <td>5</td>\n",
       "      <td>1193</td>\n",
       "      <td>One Flew Over the Cuckoo's Nest (1975)</td>\n",
       "      <td>2000</td>\n",
       "      <td>Drama</td>\n",
       "    </tr>\n",
       "  </tbody>\n",
       "</table>\n",
       "</div>"
      ],
      "text/plain": [
       "   UserID Gender       Age            Occupation  Rating  MovieID  \\\n",
       "0       1      F  Under 18          K-12 student       5     1193   \n",
       "1       2      M       56+         self-employed       5     1193   \n",
       "2      12      M     25-34            programmer       4     1193   \n",
       "3      15      M     25-34  executive/managerial       4     1193   \n",
       "4      17      M     50-55     academic/educator       5     1193   \n",
       "\n",
       "                                    Title  Year Genres  \n",
       "0  One Flew Over the Cuckoo's Nest (1975)  2000  Drama  \n",
       "1  One Flew Over the Cuckoo's Nest (1975)  2000  Drama  \n",
       "2  One Flew Over the Cuckoo's Nest (1975)  2000  Drama  \n",
       "3  One Flew Over the Cuckoo's Nest (1975)  2000  Drama  \n",
       "4  One Flew Over the Cuckoo's Nest (1975)  2000  Drama  "
      ]
     },
     "execution_count": 3,
     "metadata": {},
     "output_type": "execute_result"
    }
   ],
   "source": [
    "users_ratings_df = pd.merge(users,ratings,how='inner',on='UserID')\n",
    "users_ratings_movies_df = pd.merge(users_ratings_df,movies,how='inner',on='MovieID')\n",
    "users_ratings_movies_df = users_ratings_movies_df[['UserID','Gender','Age','Occupation','Rating','MovieID','Title','Timestamp']]\n",
    "age_group_dict = { 1:  \"Under 18\",18:  \"18-24\",25:  \"25-34\",35:  \"35-44\",45:  \"45-49\",50:  \"50-55\",56:  \"56+\"}\n",
    "\n",
    "occupation_dict = {  0:  \"other or not specified\",1:  \"academic/educator\",2:  \"artist\",3:  \"clerical/admin\",\n",
    "                   4:  \"college/grad student\",5:  \"customer service\",6:  \"doctor/health care\",7:  \"executive/managerial\",\n",
    "                   8:  \"farmer\",9:  \"homemaker\",10:  \"K-12 student\",11:  \"lawyer\",12:  \"programmer\",13:  \"retired\",\n",
    "                   14:  \"sales/marketing\",15:  \"scientist\",16:  \"self-employed\",17:  \"technician/engineer\",\n",
    "                   18:  \"tradesman/craftsman\",19:  \"unemployed\",20:  \"writer\"}\n",
    "\n",
    "users_ratings_movies_df['Age'] = users_ratings_movies_df['Age'].map(age_group_dict)\n",
    "users_ratings_movies_df['Occupation'] = users_ratings_movies_df['Occupation'].map(occupation_dict)\n",
    "\n",
    "#Extract just year from timestamp column\n",
    "users_ratings_movies_df=users_ratings_movies_df.rename(columns = {'Timestamp':'Year'})\n",
    "users_ratings_movies_df['Year'] = [datetime.fromtimestamp(timestamp).year for timestamp in users_ratings_movies_df['Year'] ] \n",
    "\n",
    "users_ratings_movies_df = pd.merge(users_ratings_movies_df,movies[['Genres']],how='inner',on='MovieID')\n",
    "\n",
    "users_ratings_movies_df.head()"
   ]
  },
  {
   "cell_type": "code",
   "execution_count": 4,
   "metadata": {},
   "outputs": [
    {
     "data": {
      "text/plain": [
       "pandas.core.series.Series"
      ]
     },
     "execution_count": 4,
     "metadata": {},
     "output_type": "execute_result"
    }
   ],
   "source": [
    "# Seperate all genre to movie_genres_df dataframe\n",
    "movie_genres_df = pd.DataFrame(columns=['MovieID','Genre'])\n",
    "for index,movie in movies.iterrows():\n",
    "    for genre in movie['Genres'].split('|'):\n",
    "        movie_genres_df = movie_genres_df.append({'MovieID' : index , 'Genre': genre},ignore_index=True)\n",
    "\n",
    "movie_genres_df.Genre.unique()\n",
    "type(movie_genres_df.Genre)"
   ]
  },
  {
   "cell_type": "markdown",
   "metadata": {},
   "source": [
    "**Data Sampling(1% of Data)**"
   ]
  },
  {
   "cell_type": "code",
   "execution_count": 5,
   "metadata": {},
   "outputs": [
    {
     "data": {
      "text/html": [
       "<div>\n",
       "<style scoped>\n",
       "    .dataframe tbody tr th:only-of-type {\n",
       "        vertical-align: middle;\n",
       "    }\n",
       "\n",
       "    .dataframe tbody tr th {\n",
       "        vertical-align: top;\n",
       "    }\n",
       "\n",
       "    .dataframe thead th {\n",
       "        text-align: right;\n",
       "    }\n",
       "</style>\n",
       "<table border=\"1\" class=\"dataframe\">\n",
       "  <thead>\n",
       "    <tr style=\"text-align: right;\">\n",
       "      <th></th>\n",
       "      <th>UserID</th>\n",
       "      <th>Gender</th>\n",
       "      <th>Age</th>\n",
       "      <th>Occupation</th>\n",
       "      <th>Rating</th>\n",
       "      <th>MovieID</th>\n",
       "      <th>Title</th>\n",
       "      <th>Year</th>\n",
       "      <th>Genres</th>\n",
       "    </tr>\n",
       "  </thead>\n",
       "  <tbody>\n",
       "    <tr>\n",
       "      <th>751406</th>\n",
       "      <td>1264</td>\n",
       "      <td>M</td>\n",
       "      <td>25-34</td>\n",
       "      <td>academic/educator</td>\n",
       "      <td>4</td>\n",
       "      <td>125</td>\n",
       "      <td>Flirting With Disaster (1996)</td>\n",
       "      <td>2000</td>\n",
       "      <td>Comedy</td>\n",
       "    </tr>\n",
       "    <tr>\n",
       "      <th>625250</th>\n",
       "      <td>3879</td>\n",
       "      <td>M</td>\n",
       "      <td>25-34</td>\n",
       "      <td>clerical/admin</td>\n",
       "      <td>3</td>\n",
       "      <td>2369</td>\n",
       "      <td>Desperately Seeking Susan (1985)</td>\n",
       "      <td>2000</td>\n",
       "      <td>Comedy|Romance</td>\n",
       "    </tr>\n",
       "    <tr>\n",
       "      <th>648475</th>\n",
       "      <td>2181</td>\n",
       "      <td>M</td>\n",
       "      <td>25-34</td>\n",
       "      <td>other or not specified</td>\n",
       "      <td>2</td>\n",
       "      <td>2613</td>\n",
       "      <td>Night of the Comet (1984)</td>\n",
       "      <td>2000</td>\n",
       "      <td>Action|Horror|Sci-Fi</td>\n",
       "    </tr>\n",
       "    <tr>\n",
       "      <th>891912</th>\n",
       "      <td>1448</td>\n",
       "      <td>F</td>\n",
       "      <td>25-34</td>\n",
       "      <td>clerical/admin</td>\n",
       "      <td>3</td>\n",
       "      <td>100</td>\n",
       "      <td>City Hall (1996)</td>\n",
       "      <td>2000</td>\n",
       "      <td>Drama|Thriller</td>\n",
       "    </tr>\n",
       "    <tr>\n",
       "      <th>967453</th>\n",
       "      <td>4875</td>\n",
       "      <td>M</td>\n",
       "      <td>35-44</td>\n",
       "      <td>other or not specified</td>\n",
       "      <td>5</td>\n",
       "      <td>759</td>\n",
       "      <td>Maya Lin: A Strong Clear Vision (1994)</td>\n",
       "      <td>2000</td>\n",
       "      <td>Documentary</td>\n",
       "    </tr>\n",
       "  </tbody>\n",
       "</table>\n",
       "</div>"
      ],
      "text/plain": [
       "        UserID Gender    Age              Occupation  Rating  MovieID  \\\n",
       "751406    1264      M  25-34       academic/educator       4      125   \n",
       "625250    3879      M  25-34          clerical/admin       3     2369   \n",
       "648475    2181      M  25-34  other or not specified       2     2613   \n",
       "891912    1448      F  25-34          clerical/admin       3      100   \n",
       "967453    4875      M  35-44  other or not specified       5      759   \n",
       "\n",
       "                                         Title  Year                Genres  \n",
       "751406           Flirting With Disaster (1996)  2000                Comedy  \n",
       "625250        Desperately Seeking Susan (1985)  2000        Comedy|Romance  \n",
       "648475               Night of the Comet (1984)  2000  Action|Horror|Sci-Fi  \n",
       "891912                        City Hall (1996)  2000        Drama|Thriller  \n",
       "967453  Maya Lin: A Strong Clear Vision (1994)  2000           Documentary  "
      ]
     },
     "execution_count": 5,
     "metadata": {},
     "output_type": "execute_result"
    }
   ],
   "source": [
    "# 1% sample of items\n",
    "df = users_ratings_movies_df.sample(frac=0.01)\n",
    "df.head()"
   ]
  },
  {
   "cell_type": "code",
   "execution_count": 6,
   "metadata": {},
   "outputs": [],
   "source": [
    "def belongs_to_genre (genres,genre):\n",
    "    if genres.__contains__(genre) :\n",
    "        return 1\n",
    "    return 0"
   ]
  },
  {
   "cell_type": "code",
   "execution_count": 7,
   "metadata": {},
   "outputs": [],
   "source": [
    "for genre in movie_genres_df.Genre.iteritems() :\n",
    "    df[genre[1]] = df.apply(lambda row: belongs_to_genre(row.Genres,genre[1]), axis = 1)"
   ]
  },
  {
   "cell_type": "code",
   "execution_count": 8,
   "metadata": {},
   "outputs": [
    {
     "data": {
      "text/html": [
       "<div>\n",
       "<style scoped>\n",
       "    .dataframe tbody tr th:only-of-type {\n",
       "        vertical-align: middle;\n",
       "    }\n",
       "\n",
       "    .dataframe tbody tr th {\n",
       "        vertical-align: top;\n",
       "    }\n",
       "\n",
       "    .dataframe thead th {\n",
       "        text-align: right;\n",
       "    }\n",
       "</style>\n",
       "<table border=\"1\" class=\"dataframe\">\n",
       "  <thead>\n",
       "    <tr style=\"text-align: right;\">\n",
       "      <th></th>\n",
       "      <th>UserID</th>\n",
       "      <th>Gender</th>\n",
       "      <th>Age</th>\n",
       "      <th>Occupation</th>\n",
       "      <th>Rating</th>\n",
       "      <th>MovieID</th>\n",
       "      <th>Title</th>\n",
       "      <th>Year</th>\n",
       "      <th>Animation</th>\n",
       "      <th>Children's</th>\n",
       "      <th>...</th>\n",
       "      <th>Crime</th>\n",
       "      <th>Thriller</th>\n",
       "      <th>Horror</th>\n",
       "      <th>Sci-Fi</th>\n",
       "      <th>Documentary</th>\n",
       "      <th>War</th>\n",
       "      <th>Musical</th>\n",
       "      <th>Mystery</th>\n",
       "      <th>Film-Noir</th>\n",
       "      <th>Western</th>\n",
       "    </tr>\n",
       "  </thead>\n",
       "  <tbody>\n",
       "    <tr>\n",
       "      <th>751406</th>\n",
       "      <td>1264</td>\n",
       "      <td>M</td>\n",
       "      <td>25-34</td>\n",
       "      <td>academic/educator</td>\n",
       "      <td>4</td>\n",
       "      <td>125</td>\n",
       "      <td>Flirting With Disaster (1996)</td>\n",
       "      <td>2000</td>\n",
       "      <td>0</td>\n",
       "      <td>0</td>\n",
       "      <td>...</td>\n",
       "      <td>0</td>\n",
       "      <td>0</td>\n",
       "      <td>0</td>\n",
       "      <td>0</td>\n",
       "      <td>0</td>\n",
       "      <td>0</td>\n",
       "      <td>0</td>\n",
       "      <td>0</td>\n",
       "      <td>0</td>\n",
       "      <td>0</td>\n",
       "    </tr>\n",
       "    <tr>\n",
       "      <th>625250</th>\n",
       "      <td>3879</td>\n",
       "      <td>M</td>\n",
       "      <td>25-34</td>\n",
       "      <td>clerical/admin</td>\n",
       "      <td>3</td>\n",
       "      <td>2369</td>\n",
       "      <td>Desperately Seeking Susan (1985)</td>\n",
       "      <td>2000</td>\n",
       "      <td>0</td>\n",
       "      <td>0</td>\n",
       "      <td>...</td>\n",
       "      <td>0</td>\n",
       "      <td>0</td>\n",
       "      <td>0</td>\n",
       "      <td>0</td>\n",
       "      <td>0</td>\n",
       "      <td>0</td>\n",
       "      <td>0</td>\n",
       "      <td>0</td>\n",
       "      <td>0</td>\n",
       "      <td>0</td>\n",
       "    </tr>\n",
       "    <tr>\n",
       "      <th>648475</th>\n",
       "      <td>2181</td>\n",
       "      <td>M</td>\n",
       "      <td>25-34</td>\n",
       "      <td>other or not specified</td>\n",
       "      <td>2</td>\n",
       "      <td>2613</td>\n",
       "      <td>Night of the Comet (1984)</td>\n",
       "      <td>2000</td>\n",
       "      <td>0</td>\n",
       "      <td>0</td>\n",
       "      <td>...</td>\n",
       "      <td>0</td>\n",
       "      <td>0</td>\n",
       "      <td>1</td>\n",
       "      <td>1</td>\n",
       "      <td>0</td>\n",
       "      <td>0</td>\n",
       "      <td>0</td>\n",
       "      <td>0</td>\n",
       "      <td>0</td>\n",
       "      <td>0</td>\n",
       "    </tr>\n",
       "    <tr>\n",
       "      <th>891912</th>\n",
       "      <td>1448</td>\n",
       "      <td>F</td>\n",
       "      <td>25-34</td>\n",
       "      <td>clerical/admin</td>\n",
       "      <td>3</td>\n",
       "      <td>100</td>\n",
       "      <td>City Hall (1996)</td>\n",
       "      <td>2000</td>\n",
       "      <td>0</td>\n",
       "      <td>0</td>\n",
       "      <td>...</td>\n",
       "      <td>0</td>\n",
       "      <td>1</td>\n",
       "      <td>0</td>\n",
       "      <td>0</td>\n",
       "      <td>0</td>\n",
       "      <td>0</td>\n",
       "      <td>0</td>\n",
       "      <td>0</td>\n",
       "      <td>0</td>\n",
       "      <td>0</td>\n",
       "    </tr>\n",
       "    <tr>\n",
       "      <th>967453</th>\n",
       "      <td>4875</td>\n",
       "      <td>M</td>\n",
       "      <td>35-44</td>\n",
       "      <td>other or not specified</td>\n",
       "      <td>5</td>\n",
       "      <td>759</td>\n",
       "      <td>Maya Lin: A Strong Clear Vision (1994)</td>\n",
       "      <td>2000</td>\n",
       "      <td>0</td>\n",
       "      <td>0</td>\n",
       "      <td>...</td>\n",
       "      <td>0</td>\n",
       "      <td>0</td>\n",
       "      <td>0</td>\n",
       "      <td>0</td>\n",
       "      <td>1</td>\n",
       "      <td>0</td>\n",
       "      <td>0</td>\n",
       "      <td>0</td>\n",
       "      <td>0</td>\n",
       "      <td>0</td>\n",
       "    </tr>\n",
       "    <tr>\n",
       "      <th>599224</th>\n",
       "      <td>3132</td>\n",
       "      <td>M</td>\n",
       "      <td>35-44</td>\n",
       "      <td>executive/managerial</td>\n",
       "      <td>4</td>\n",
       "      <td>3535</td>\n",
       "      <td>American Psycho (2000)</td>\n",
       "      <td>2000</td>\n",
       "      <td>0</td>\n",
       "      <td>0</td>\n",
       "      <td>...</td>\n",
       "      <td>0</td>\n",
       "      <td>1</td>\n",
       "      <td>1</td>\n",
       "      <td>0</td>\n",
       "      <td>0</td>\n",
       "      <td>0</td>\n",
       "      <td>0</td>\n",
       "      <td>0</td>\n",
       "      <td>0</td>\n",
       "      <td>0</td>\n",
       "    </tr>\n",
       "    <tr>\n",
       "      <th>108606</th>\n",
       "      <td>2670</td>\n",
       "      <td>M</td>\n",
       "      <td>35-44</td>\n",
       "      <td>doctor/health care</td>\n",
       "      <td>4</td>\n",
       "      <td>2858</td>\n",
       "      <td>American Beauty (1999)</td>\n",
       "      <td>2000</td>\n",
       "      <td>0</td>\n",
       "      <td>0</td>\n",
       "      <td>...</td>\n",
       "      <td>0</td>\n",
       "      <td>0</td>\n",
       "      <td>0</td>\n",
       "      <td>0</td>\n",
       "      <td>0</td>\n",
       "      <td>0</td>\n",
       "      <td>0</td>\n",
       "      <td>0</td>\n",
       "      <td>0</td>\n",
       "      <td>0</td>\n",
       "    </tr>\n",
       "    <tr>\n",
       "      <th>339381</th>\n",
       "      <td>8</td>\n",
       "      <td>M</td>\n",
       "      <td>25-34</td>\n",
       "      <td>programmer</td>\n",
       "      <td>4</td>\n",
       "      <td>266</td>\n",
       "      <td>Legends of the Fall (1994)</td>\n",
       "      <td>2000</td>\n",
       "      <td>0</td>\n",
       "      <td>0</td>\n",
       "      <td>...</td>\n",
       "      <td>0</td>\n",
       "      <td>0</td>\n",
       "      <td>0</td>\n",
       "      <td>0</td>\n",
       "      <td>0</td>\n",
       "      <td>1</td>\n",
       "      <td>0</td>\n",
       "      <td>0</td>\n",
       "      <td>0</td>\n",
       "      <td>1</td>\n",
       "    </tr>\n",
       "    <tr>\n",
       "      <th>120487</th>\n",
       "      <td>1699</td>\n",
       "      <td>F</td>\n",
       "      <td>25-34</td>\n",
       "      <td>unemployed</td>\n",
       "      <td>5</td>\n",
       "      <td>1265</td>\n",
       "      <td>Groundhog Day (1993)</td>\n",
       "      <td>2000</td>\n",
       "      <td>0</td>\n",
       "      <td>0</td>\n",
       "      <td>...</td>\n",
       "      <td>0</td>\n",
       "      <td>0</td>\n",
       "      <td>0</td>\n",
       "      <td>0</td>\n",
       "      <td>0</td>\n",
       "      <td>0</td>\n",
       "      <td>0</td>\n",
       "      <td>0</td>\n",
       "      <td>0</td>\n",
       "      <td>0</td>\n",
       "    </tr>\n",
       "    <tr>\n",
       "      <th>315529</th>\n",
       "      <td>4932</td>\n",
       "      <td>M</td>\n",
       "      <td>25-34</td>\n",
       "      <td>executive/managerial</td>\n",
       "      <td>4</td>\n",
       "      <td>1966</td>\n",
       "      <td>Metropolitan (1990)</td>\n",
       "      <td>2000</td>\n",
       "      <td>0</td>\n",
       "      <td>0</td>\n",
       "      <td>...</td>\n",
       "      <td>0</td>\n",
       "      <td>0</td>\n",
       "      <td>0</td>\n",
       "      <td>0</td>\n",
       "      <td>0</td>\n",
       "      <td>0</td>\n",
       "      <td>0</td>\n",
       "      <td>0</td>\n",
       "      <td>0</td>\n",
       "      <td>0</td>\n",
       "    </tr>\n",
       "  </tbody>\n",
       "</table>\n",
       "<p>10 rows × 26 columns</p>\n",
       "</div>"
      ],
      "text/plain": [
       "        UserID Gender    Age              Occupation  Rating  MovieID  \\\n",
       "751406    1264      M  25-34       academic/educator       4      125   \n",
       "625250    3879      M  25-34          clerical/admin       3     2369   \n",
       "648475    2181      M  25-34  other or not specified       2     2613   \n",
       "891912    1448      F  25-34          clerical/admin       3      100   \n",
       "967453    4875      M  35-44  other or not specified       5      759   \n",
       "599224    3132      M  35-44    executive/managerial       4     3535   \n",
       "108606    2670      M  35-44      doctor/health care       4     2858   \n",
       "339381       8      M  25-34              programmer       4      266   \n",
       "120487    1699      F  25-34              unemployed       5     1265   \n",
       "315529    4932      M  25-34    executive/managerial       4     1966   \n",
       "\n",
       "                                         Title  Year  Animation  Children's  \\\n",
       "751406           Flirting With Disaster (1996)  2000          0           0   \n",
       "625250        Desperately Seeking Susan (1985)  2000          0           0   \n",
       "648475               Night of the Comet (1984)  2000          0           0   \n",
       "891912                        City Hall (1996)  2000          0           0   \n",
       "967453  Maya Lin: A Strong Clear Vision (1994)  2000          0           0   \n",
       "599224                  American Psycho (2000)  2000          0           0   \n",
       "108606                  American Beauty (1999)  2000          0           0   \n",
       "339381              Legends of the Fall (1994)  2000          0           0   \n",
       "120487                    Groundhog Day (1993)  2000          0           0   \n",
       "315529                     Metropolitan (1990)  2000          0           0   \n",
       "\n",
       "        ...  Crime  Thriller  Horror  Sci-Fi  Documentary  War  Musical  \\\n",
       "751406  ...      0         0       0       0            0    0        0   \n",
       "625250  ...      0         0       0       0            0    0        0   \n",
       "648475  ...      0         0       1       1            0    0        0   \n",
       "891912  ...      0         1       0       0            0    0        0   \n",
       "967453  ...      0         0       0       0            1    0        0   \n",
       "599224  ...      0         1       1       0            0    0        0   \n",
       "108606  ...      0         0       0       0            0    0        0   \n",
       "339381  ...      0         0       0       0            0    1        0   \n",
       "120487  ...      0         0       0       0            0    0        0   \n",
       "315529  ...      0         0       0       0            0    0        0   \n",
       "\n",
       "        Mystery  Film-Noir  Western  \n",
       "751406        0          0        0  \n",
       "625250        0          0        0  \n",
       "648475        0          0        0  \n",
       "891912        0          0        0  \n",
       "967453        0          0        0  \n",
       "599224        0          0        0  \n",
       "108606        0          0        0  \n",
       "339381        0          0        1  \n",
       "120487        0          0        0  \n",
       "315529        0          0        0  \n",
       "\n",
       "[10 rows x 26 columns]"
      ]
     },
     "execution_count": 8,
     "metadata": {},
     "output_type": "execute_result"
    }
   ],
   "source": [
    "df = df.drop(['Genres'], 1)\n",
    "df.head(10)"
   ]
  },
  {
   "cell_type": "code",
   "execution_count": 9,
   "metadata": {},
   "outputs": [
    {
     "name": "stdout",
     "output_type": "stream",
     "text": [
      "<class 'pandas.core.frame.DataFrame'>\n",
      "Int64Index: 10002 entries, 751406 to 778991\n",
      "Data columns (total 26 columns):\n",
      "UserID         10002 non-null int64\n",
      "Gender         10002 non-null object\n",
      "Age            10002 non-null object\n",
      "Occupation     10002 non-null object\n",
      "Rating         10002 non-null int64\n",
      "MovieID        10002 non-null int64\n",
      "Title          10002 non-null object\n",
      "Year           10002 non-null int64\n",
      "Animation      10002 non-null int64\n",
      "Children's     10002 non-null int64\n",
      "Comedy         10002 non-null int64\n",
      "Adventure      10002 non-null int64\n",
      "Fantasy        10002 non-null int64\n",
      "Romance        10002 non-null int64\n",
      "Drama          10002 non-null int64\n",
      "Action         10002 non-null int64\n",
      "Crime          10002 non-null int64\n",
      "Thriller       10002 non-null int64\n",
      "Horror         10002 non-null int64\n",
      "Sci-Fi         10002 non-null int64\n",
      "Documentary    10002 non-null int64\n",
      "War            10002 non-null int64\n",
      "Musical        10002 non-null int64\n",
      "Mystery        10002 non-null int64\n",
      "Film-Noir      10002 non-null int64\n",
      "Western        10002 non-null int64\n",
      "dtypes: int64(22), object(4)\n",
      "memory usage: 2.1+ MB\n"
     ]
    }
   ],
   "source": [
    "df.info()"
   ]
  },
  {
   "cell_type": "code",
   "execution_count": 11,
   "metadata": {},
   "outputs": [
    {
     "data": {
      "text/plain": [
       "Index(['Gender', 'Age', 'Occupation', 'Title'], dtype='object')"
      ]
     },
     "execution_count": 11,
     "metadata": {},
     "output_type": "execute_result"
    }
   ],
   "source": [
    "df.select_dtypes(include=['object']).columns"
   ]
  },
  {
   "cell_type": "code",
   "execution_count": 12,
   "metadata": {},
   "outputs": [],
   "source": [
    "# Object data to category\n",
    "for col in df.select_dtypes(include=['object']).columns:\n",
    "    df[col] = df[col].astype('category')\n",
    "    \n",
    "# Encoding categorical features\n",
    "for col in df.select_dtypes(include=['category']).columns:\n",
    "    df[col] = df[col].cat.codes"
   ]
  },
  {
   "cell_type": "code",
   "execution_count": 13,
   "metadata": {},
   "outputs": [
    {
     "data": {
      "image/png": "[encoded data removed]",
      "text/plain": [
       "<Figure size 504x360 with 2 Axes>"
      ]
     },
     "metadata": {
      "needs_background": "light"
     },
     "output_type": "display_data"
    }
   ],
   "source": [
    "# Сorrelation matrix\n",
    "plt.figure(figsize=[7,5])\n",
    "sns.heatmap(df.corr())\n",
    "plt.show()"
   ]
  },
  {
   "cell_type": "markdown",
   "metadata": {},
   "source": [
    "# Random Forest"
   ]
  },
  {
   "cell_type": "code",
   "execution_count": 14,
   "metadata": {},
   "outputs": [
    {
     "data": {
      "text/plain": [
       "RandomForestClassifier(bootstrap=True, class_weight=None, criterion='gini',\n",
       "                       max_depth=25, max_features='auto', max_leaf_nodes=None,\n",
       "                       min_impurity_decrease=0.0, min_impurity_split=None,\n",
       "                       min_samples_leaf=1, min_samples_split=2,\n",
       "                       min_weight_fraction_leaf=0.0, n_estimators=250,\n",
       "                       n_jobs=None, oob_score=False, random_state=None,\n",
       "                       verbose=0, warm_start=False)"
      ]
     },
     "execution_count": 14,
     "metadata": {},
     "output_type": "execute_result"
    }
   ],
   "source": [
    "model = ensemble.RandomForestClassifier(n_estimators=250, max_depth=25)\n",
    "model.fit(df[df.columns[df.columns != 'Rating']], df.Rating)"
   ]
  },
  {
   "cell_type": "code",
   "execution_count": 15,
   "metadata": {},
   "outputs": [],
   "source": [
    "df_plot = pd.DataFrame({'features': df.columns[df.columns != 'Rating'],\n",
    "                        'importances': model.feature_importances_})\n",
    "df_plot = df_plot.sort_values('importances', ascending=False)"
   ]
  },
  {
   "cell_type": "code",
   "execution_count": 16,
   "metadata": {},
   "outputs": [
    {
     "data": {
      "image/png": "[encoded data removed]",
      "text/plain": [
       "<Figure size 792x360 with 1 Axes>"
      ]
     },
     "metadata": {
      "needs_background": "light"
     },
     "output_type": "display_data"
    }
   ],
   "source": [
    "plt.figure(figsize=[11,5])\n",
    "sns.barplot(x = df_plot.importances, y = df_plot.features)\n",
    "plt.title('Importances of Features Plot')\n",
    "plt.show()"
   ]
  },
  {
   "cell_type": "markdown",
   "metadata": {},
   "source": [
    "**I selected the most informative columns using Random Forest Model.**"
   ]
  },
  {
   "cell_type": "code",
   "execution_count": 17,
   "metadata": {},
   "outputs": [
    {
     "data": {
      "text/plain": [
       "Index(['UserID', 'Age', 'Occupation', 'Rating', 'MovieID', 'Title'], dtype='object')"
      ]
     },
     "execution_count": 17,
     "metadata": {},
     "output_type": "execute_result"
    }
   ],
   "source": [
    "informative_columns = df.drop(df_plot.features[df_plot.importances < 0.05].tolist(), 1).columns\n",
    "informative_columns"
   ]
  },
  {
   "cell_type": "markdown",
   "metadata": {},
   "source": [
    "**Now we select informative columns from whole data.**"
   ]
  },
  {
   "cell_type": "code",
   "execution_count": 18,
   "metadata": {},
   "outputs": [
    {
     "data": {
      "text/html": [
       "<div>\n",
       "<style scoped>\n",
       "    .dataframe tbody tr th:only-of-type {\n",
       "        vertical-align: middle;\n",
       "    }\n",
       "\n",
       "    .dataframe tbody tr th {\n",
       "        vertical-align: top;\n",
       "    }\n",
       "\n",
       "    .dataframe thead th {\n",
       "        text-align: right;\n",
       "    }\n",
       "</style>\n",
       "<table border=\"1\" class=\"dataframe\">\n",
       "  <thead>\n",
       "    <tr style=\"text-align: right;\">\n",
       "      <th></th>\n",
       "      <th>UserID</th>\n",
       "      <th>Age</th>\n",
       "      <th>Occupation</th>\n",
       "      <th>Rating</th>\n",
       "      <th>MovieID</th>\n",
       "      <th>Title</th>\n",
       "    </tr>\n",
       "  </thead>\n",
       "  <tbody>\n",
       "    <tr>\n",
       "      <th>0</th>\n",
       "      <td>1</td>\n",
       "      <td>Under 18</td>\n",
       "      <td>K-12 student</td>\n",
       "      <td>5</td>\n",
       "      <td>1193</td>\n",
       "      <td>One Flew Over the Cuckoo's Nest (1975)</td>\n",
       "    </tr>\n",
       "    <tr>\n",
       "      <th>1</th>\n",
       "      <td>2</td>\n",
       "      <td>56+</td>\n",
       "      <td>self-employed</td>\n",
       "      <td>5</td>\n",
       "      <td>1193</td>\n",
       "      <td>One Flew Over the Cuckoo's Nest (1975)</td>\n",
       "    </tr>\n",
       "    <tr>\n",
       "      <th>2</th>\n",
       "      <td>12</td>\n",
       "      <td>25-34</td>\n",
       "      <td>programmer</td>\n",
       "      <td>4</td>\n",
       "      <td>1193</td>\n",
       "      <td>One Flew Over the Cuckoo's Nest (1975)</td>\n",
       "    </tr>\n",
       "    <tr>\n",
       "      <th>3</th>\n",
       "      <td>15</td>\n",
       "      <td>25-34</td>\n",
       "      <td>executive/managerial</td>\n",
       "      <td>4</td>\n",
       "      <td>1193</td>\n",
       "      <td>One Flew Over the Cuckoo's Nest (1975)</td>\n",
       "    </tr>\n",
       "    <tr>\n",
       "      <th>4</th>\n",
       "      <td>17</td>\n",
       "      <td>50-55</td>\n",
       "      <td>academic/educator</td>\n",
       "      <td>5</td>\n",
       "      <td>1193</td>\n",
       "      <td>One Flew Over the Cuckoo's Nest (1975)</td>\n",
       "    </tr>\n",
       "  </tbody>\n",
       "</table>\n",
       "</div>"
      ],
      "text/plain": [
       "   UserID       Age            Occupation  Rating  MovieID  \\\n",
       "0       1  Under 18          K-12 student       5     1193   \n",
       "1       2       56+         self-employed       5     1193   \n",
       "2      12     25-34            programmer       4     1193   \n",
       "3      15     25-34  executive/managerial       4     1193   \n",
       "4      17     50-55     academic/educator       5     1193   \n",
       "\n",
       "                                    Title  \n",
       "0  One Flew Over the Cuckoo's Nest (1975)  \n",
       "1  One Flew Over the Cuckoo's Nest (1975)  \n",
       "2  One Flew Over the Cuckoo's Nest (1975)  \n",
       "3  One Flew Over the Cuckoo's Nest (1975)  \n",
       "4  One Flew Over the Cuckoo's Nest (1975)  "
      ]
     },
     "execution_count": 18,
     "metadata": {},
     "output_type": "execute_result"
    }
   ],
   "source": [
    "df_informative = users_ratings_movies_df[informative_columns]\n",
    "df_informative.head()"
   ]
  },
  {
   "cell_type": "markdown",
   "metadata": {},
   "source": [
    "# XGboost"
   ]
  },
  {
   "cell_type": "code",
   "execution_count": 19,
   "metadata": {},
   "outputs": [],
   "source": [
    "# Train & Test split\n",
    "target = df_informative.pop('Rating')\n",
    "train_data, test_data, train_labels, test_labels = train_test_split(df_informative, target, test_size = 0.3)"
   ]
  },
  {
   "cell_type": "markdown",
   "metadata": {},
   "source": [
    "It seems like new version of xgboost do not accept the datatype of in fields Age, Occupation, Title since they are objects.So I convert them."
   ]
  },
  {
   "cell_type": "code",
   "execution_count": 20,
   "metadata": {},
   "outputs": [
    {
     "name": "stderr",
     "output_type": "stream",
     "text": [
      "C:\\Users\\Amin\\Anaconda3\\lib\\site-packages\\ipykernel_launcher.py:3: SettingWithCopyWarning: \n",
      "A value is trying to be set on a copy of a slice from a DataFrame.\n",
      "Try using .loc[row_indexer,col_indexer] = value instead\n",
      "\n",
      "See the caveats in the documentation: http://pandas.pydata.org/pandas-docs/stable/indexing.html#indexing-view-versus-copy\n",
      "  This is separate from the ipykernel package so we can avoid doing imports until\n",
      "C:\\Users\\Amin\\Anaconda3\\lib\\site-packages\\ipykernel_launcher.py:4: SettingWithCopyWarning: \n",
      "A value is trying to be set on a copy of a slice from a DataFrame.\n",
      "Try using .loc[row_indexer,col_indexer] = value instead\n",
      "\n",
      "See the caveats in the documentation: http://pandas.pydata.org/pandas-docs/stable/indexing.html#indexing-view-versus-copy\n",
      "  after removing the cwd from sys.path.\n",
      "C:\\Users\\Amin\\Anaconda3\\lib\\site-packages\\ipykernel_launcher.py:5: SettingWithCopyWarning: \n",
      "A value is trying to be set on a copy of a slice from a DataFrame.\n",
      "Try using .loc[row_indexer,col_indexer] = value instead\n",
      "\n",
      "See the caveats in the documentation: http://pandas.pydata.org/pandas-docs/stable/indexing.html#indexing-view-versus-copy\n",
      "  \"\"\"\n",
      "C:\\Users\\Amin\\Anaconda3\\lib\\site-packages\\ipykernel_launcher.py:7: SettingWithCopyWarning: \n",
      "A value is trying to be set on a copy of a slice from a DataFrame.\n",
      "Try using .loc[row_indexer,col_indexer] = value instead\n",
      "\n",
      "See the caveats in the documentation: http://pandas.pydata.org/pandas-docs/stable/indexing.html#indexing-view-versus-copy\n",
      "  import sys\n",
      "C:\\Users\\Amin\\Anaconda3\\lib\\site-packages\\ipykernel_launcher.py:8: SettingWithCopyWarning: \n",
      "A value is trying to be set on a copy of a slice from a DataFrame.\n",
      "Try using .loc[row_indexer,col_indexer] = value instead\n",
      "\n",
      "See the caveats in the documentation: http://pandas.pydata.org/pandas-docs/stable/indexing.html#indexing-view-versus-copy\n",
      "  \n",
      "C:\\Users\\Amin\\Anaconda3\\lib\\site-packages\\ipykernel_launcher.py:9: SettingWithCopyWarning: \n",
      "A value is trying to be set on a copy of a slice from a DataFrame.\n",
      "Try using .loc[row_indexer,col_indexer] = value instead\n",
      "\n",
      "See the caveats in the documentation: http://pandas.pydata.org/pandas-docs/stable/indexing.html#indexing-view-versus-copy\n",
      "  if __name__ == '__main__':\n"
     ]
    }
   ],
   "source": [
    "from sklearn import preprocessing\n",
    "lbl = preprocessing.LabelEncoder()\n",
    "train_data['Age'] = lbl.fit_transform(train_data['Age'].astype(str))\n",
    "train_data['Occupation'] = lbl.fit_transform(train_data['Occupation'].astype(str))\n",
    "train_data['Title'] = lbl.fit_transform(train_data['Title'].astype(str))\n",
    "\n",
    "test_data['Age'] = lbl.fit_transform(test_data['Age'].astype(str))\n",
    "test_data['Occupation'] = lbl.fit_transform(test_data['Occupation'].astype(str))\n",
    "test_data['Title'] = lbl.fit_transform(test_data['Title'].astype(str))"
   ]
  },
  {
   "cell_type": "markdown",
   "metadata": {},
   "source": [
    "**Parameters Tuning**"
   ]
  },
  {
   "cell_type": "code",
   "execution_count": 33,
   "metadata": {},
   "outputs": [
    {
     "data": {
      "text/plain": [
       "XGBClassifier(base_score=0.5, booster='gbtree', colsample_bylevel=1,\n",
       "              colsample_bynode=1, colsample_bytree=1, gamma=0,\n",
       "              learning_rate=0.2, max_delta_step=0, max_depth=10,\n",
       "              min_child_weight=10, missing=None, n_estimators=250, n_jobs=1,\n",
       "              nthread=None, objective='multi:softprob', random_state=0,\n",
       "              reg_alpha=0, reg_lambda=1, scale_pos_weight=1, seed=None,\n",
       "              silent=None, subsample=1, verbosity=1)"
      ]
     },
     "execution_count": 33,
     "metadata": {},
     "output_type": "execute_result"
    }
   ],
   "source": [
    "# Create model\n",
    "\n",
    "model = xgb.XGBClassifier()\n",
    "\n",
    "# Create parameters grid\n",
    "\n",
    "parameters_grid = { 'learning_rate' : [0.1, 0.2, 0.5], 'max_depth' : [5, 10, 15], 'n_estimators' : [150, 250, 300], 'min_child_weight' : [3, 5, 10] }\n",
    "\n",
    "# Strategy of cross validation\n",
    "\n",
    "cv = StratifiedShuffleSplit(n_splits = 3, test_size = 0.3)\n",
    "\n",
    "# Create Grid search Strategy\n",
    "\n",
    "grid_cv = RandomizedSearchCV(model, parameters_grid, scoring = 'accuracy', cv = cv)\n",
    "\n",
    "# Fit model by Grid\n",
    "\n",
    "grid_cv.fit(train_data, train_labels)\n",
    "\n",
    "# Model with the best estimator\n",
    "\n",
    "grid_cv.best_estimator_"
   ]
  },
  {
   "cell_type": "code",
   "execution_count": 34,
   "metadata": {},
   "outputs": [
    {
     "data": {
      "text/plain": [
       "XGBClassifier(base_score=0.5, booster='gbtree', colsample_bylevel=1,\n",
       "              colsample_bynode=1, colsample_bytree=1, gamma=0,\n",
       "              learning_rate=0.2, max_delta_step=0, max_depth=10,\n",
       "              min_child_weight=10, missing=None, n_estimators=250, n_jobs=1,\n",
       "              nthread=None, objective='multi:softprob', random_state=0,\n",
       "              reg_alpha=0, reg_lambda=1, scale_pos_weight=1, seed=None,\n",
       "              silent=None, subsample=1, verbosity=1)"
      ]
     },
     "execution_count": 34,
     "metadata": {},
     "output_type": "execute_result"
    }
   ],
   "source": [
    "model = xgb.XGBClassifier(learning_rate=0.2, max_depth=10, min_child_weight=10, n_estimators=250)\n",
    "model.fit(train_data, train_labels)"
   ]
  },
  {
   "cell_type": "code",
   "execution_count": 35,
   "metadata": {},
   "outputs": [],
   "source": [
    "# Predicting\n",
    "predict_labels = model.predict(test_data)"
   ]
  },
  {
   "cell_type": "markdown",
   "metadata": {},
   "source": [
    "# The results of the algorithm"
   ]
  },
  {
   "cell_type": "code",
   "execution_count": 36,
   "metadata": {},
   "outputs": [
    {
     "name": "stdout",
     "output_type": "stream",
     "text": [
      "              precision    recall  f1-score   support\n",
      "\n",
      "           1       0.48      0.17      0.25     16813\n",
      "           2       0.32      0.07      0.11     32553\n",
      "           3       0.38      0.36      0.37     78291\n",
      "           4       0.41      0.66      0.51    104278\n",
      "           5       0.51      0.33      0.40     68128\n",
      "\n",
      "    accuracy                           0.42    300063\n",
      "   macro avg       0.42      0.32      0.33    300063\n",
      "weighted avg       0.42      0.42      0.39    300063\n",
      "\n"
     ]
    }
   ],
   "source": [
    "from sklearn.metrics import classification_report\n",
    "print(classification_report(test_labels, predict_labels))"
   ]
  }
 ],
 "metadata": {
  "kernelspec": {
   "display_name": "Python 3",
   "language": "python",
   "name": "python3"
  },
  "language_info": {
   "codemirror_mode": {
    "name": "ipython",
    "version": 3
   },
   "file_extension": ".py",
   "mimetype": "text/x-python",
   "name": "python",
   "nbconvert_exporter": "python",
   "pygments_lexer": "ipython3",
   "version": "3.7.3"
  }
 },
 "nbformat": 4,
 "nbformat_minor": 2
}
