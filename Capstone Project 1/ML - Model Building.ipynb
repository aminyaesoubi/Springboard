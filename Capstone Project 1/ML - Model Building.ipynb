{
 "cells": [
  {
   "cell_type": "markdown",
   "metadata": {},
   "source": [
    "Now we're trying to learn more about how users behave, so we can use their behavior as a way to group 'similar minded users' or 'same movies' together. \n",
    "\n",
    "The most commonly used algorithm is **Collaborative filtering algorithms** because it is not dependent on any additional information.\n",
    "\n",
    "There are several types of collaborative filtering algorithms :\n",
    "\n",
    "**User-User Collaborative filtering:** Here we find look alike user to every user and offer movies which first user’s look alike has chosen in past. \n",
    "\n",
    "**Item-Item Collaborative filtering:** It is quite similar to previous algorithm, but instead of finding user look alike, we try finding movie look alike. Once we have movie look alike matrix, we can easily recommend alike movies to user who have watched any movie from the site."
   ]
  },
  {
   "cell_type": "markdown",
   "metadata": {},
   "source": [
    "# Data"
   ]
  },
  {
   "cell_type": "code",
   "execution_count": 2,
   "metadata": {},
   "outputs": [
    {
     "data": {
      "text/plain": [
       "(                                      Title                        Genres\n",
       " MovieID                                                                  \n",
       " 1                          Toy Story (1995)   Animation|Children's|Comedy\n",
       " 2                            Jumanji (1995)  Adventure|Children's|Fantasy\n",
       " 3                   Grumpier Old Men (1995)                Comedy|Romance\n",
       " 4                  Waiting to Exhale (1995)                  Comedy|Drama\n",
       " 5        Father of the Bride Part II (1995)                        Comedy,\n",
       "        Gender  Age  Occupation Zip-code\n",
       " UserID                                 \n",
       " 1           F    1          10    48067\n",
       " 2           M   56          16    70072\n",
       " 3           M   25          15    55117\n",
       " 4           M   45           7    02460\n",
       " 5           M   25          20    55455,\n",
       "    UserID  MovieID  Rating  Timestamp\n",
       " 0       1     1193       5  978300760\n",
       " 1       1      661       3  978302109\n",
       " 2       1      914       3  978301968\n",
       " 3       1     3408       4  978300275\n",
       " 4       1     2355       5  978824291)"
      ]
     },
     "execution_count": 2,
     "metadata": {},
     "output_type": "execute_result"
    }
   ],
   "source": [
    "import pandas as pd\n",
    "import numpy as np\n",
    "from datetime import datetime\n",
    "import matplotlib.pyplot as plt\n",
    "import seaborn as sns\n",
    "import matplotlib.ticker as mtick\n",
    "\n",
    "movies = pd.read_csv('Dataset/movies.dat', sep = '::', engine='python',\n",
    "                     names=['MovieID','Title','Genres'],index_col ='MovieID' )\n",
    "users = pd.read_csv('Dataset/users.dat', sep = '::', engine='python',\n",
    "                     names=['UserID','Gender','Age','Occupation','Zip-code'],index_col ='UserID' )\n",
    "ratings = pd.read_csv('Dataset/ratings.dat', sep = '::', engine='python',\n",
    "                     names=['UserID','MovieID','Rating','Timestamp'])#,index_col =['UserID','MovieID'] )\n",
    "movies.shape , users.shape , ratings.shape\n",
    "movies.head() , users.head() , ratings.head()"
   ]
  },
  {
   "cell_type": "markdown",
   "metadata": {},
   "source": [
    "# Using dimension reduction techniques(PCA,NMF) for movie recommendation system"
   ]
  },
  {
   "cell_type": "markdown",
   "metadata": {},
   "source": [
    "**Data wrangling**"
   ]
  },
  {
   "cell_type": "markdown",
   "metadata": {},
   "source": [
    " Now we're going to create two sparse matrix that contain each user ratings for **User-User Collaborative filtering** and **Item-Item Collaborative filtering**.\n"
   ]
  },
  {
   "cell_type": "code",
   "execution_count": 3,
   "metadata": {},
   "outputs": [
    {
     "data": {
      "text/html": [
       "<div>\n",
       "<style scoped>\n",
       "    .dataframe tbody tr th:only-of-type {\n",
       "        vertical-align: middle;\n",
       "    }\n",
       "\n",
       "    .dataframe tbody tr th {\n",
       "        vertical-align: top;\n",
       "    }\n",
       "\n",
       "    .dataframe thead th {\n",
       "        text-align: right;\n",
       "    }\n",
       "</style>\n",
       "<table border=\"1\" class=\"dataframe\">\n",
       "  <thead>\n",
       "    <tr style=\"text-align: right;\">\n",
       "      <th>UserID</th>\n",
       "      <th>1</th>\n",
       "      <th>2</th>\n",
       "      <th>3</th>\n",
       "      <th>4</th>\n",
       "      <th>5</th>\n",
       "      <th>6</th>\n",
       "      <th>7</th>\n",
       "      <th>8</th>\n",
       "      <th>9</th>\n",
       "      <th>10</th>\n",
       "      <th>...</th>\n",
       "      <th>6031</th>\n",
       "      <th>6032</th>\n",
       "      <th>6033</th>\n",
       "      <th>6034</th>\n",
       "      <th>6035</th>\n",
       "      <th>6036</th>\n",
       "      <th>6037</th>\n",
       "      <th>6038</th>\n",
       "      <th>6039</th>\n",
       "      <th>6040</th>\n",
       "    </tr>\n",
       "    <tr>\n",
       "      <th>Title</th>\n",
       "      <th></th>\n",
       "      <th></th>\n",
       "      <th></th>\n",
       "      <th></th>\n",
       "      <th></th>\n",
       "      <th></th>\n",
       "      <th></th>\n",
       "      <th></th>\n",
       "      <th></th>\n",
       "      <th></th>\n",
       "      <th></th>\n",
       "      <th></th>\n",
       "      <th></th>\n",
       "      <th></th>\n",
       "      <th></th>\n",
       "      <th></th>\n",
       "      <th></th>\n",
       "      <th></th>\n",
       "      <th></th>\n",
       "      <th></th>\n",
       "      <th></th>\n",
       "    </tr>\n",
       "  </thead>\n",
       "  <tbody>\n",
       "    <tr>\n",
       "      <th>$1,000,000 Duck (1971)</th>\n",
       "      <td>0</td>\n",
       "      <td>0</td>\n",
       "      <td>0</td>\n",
       "      <td>0</td>\n",
       "      <td>0</td>\n",
       "      <td>0</td>\n",
       "      <td>0</td>\n",
       "      <td>0</td>\n",
       "      <td>0</td>\n",
       "      <td>0</td>\n",
       "      <td>...</td>\n",
       "      <td>0</td>\n",
       "      <td>0</td>\n",
       "      <td>0</td>\n",
       "      <td>0</td>\n",
       "      <td>0</td>\n",
       "      <td>0</td>\n",
       "      <td>0</td>\n",
       "      <td>0</td>\n",
       "      <td>0</td>\n",
       "      <td>0</td>\n",
       "    </tr>\n",
       "    <tr>\n",
       "      <th>'Night Mother (1986)</th>\n",
       "      <td>0</td>\n",
       "      <td>0</td>\n",
       "      <td>0</td>\n",
       "      <td>0</td>\n",
       "      <td>0</td>\n",
       "      <td>0</td>\n",
       "      <td>0</td>\n",
       "      <td>0</td>\n",
       "      <td>0</td>\n",
       "      <td>0</td>\n",
       "      <td>...</td>\n",
       "      <td>0</td>\n",
       "      <td>0</td>\n",
       "      <td>0</td>\n",
       "      <td>0</td>\n",
       "      <td>0</td>\n",
       "      <td>3</td>\n",
       "      <td>0</td>\n",
       "      <td>0</td>\n",
       "      <td>0</td>\n",
       "      <td>0</td>\n",
       "    </tr>\n",
       "    <tr>\n",
       "      <th>'Til There Was You (1997)</th>\n",
       "      <td>0</td>\n",
       "      <td>0</td>\n",
       "      <td>0</td>\n",
       "      <td>0</td>\n",
       "      <td>0</td>\n",
       "      <td>0</td>\n",
       "      <td>0</td>\n",
       "      <td>0</td>\n",
       "      <td>0</td>\n",
       "      <td>0</td>\n",
       "      <td>...</td>\n",
       "      <td>0</td>\n",
       "      <td>0</td>\n",
       "      <td>0</td>\n",
       "      <td>0</td>\n",
       "      <td>0</td>\n",
       "      <td>0</td>\n",
       "      <td>0</td>\n",
       "      <td>0</td>\n",
       "      <td>0</td>\n",
       "      <td>0</td>\n",
       "    </tr>\n",
       "    <tr>\n",
       "      <th>'burbs, The (1989)</th>\n",
       "      <td>0</td>\n",
       "      <td>0</td>\n",
       "      <td>0</td>\n",
       "      <td>0</td>\n",
       "      <td>0</td>\n",
       "      <td>0</td>\n",
       "      <td>0</td>\n",
       "      <td>0</td>\n",
       "      <td>0</td>\n",
       "      <td>4</td>\n",
       "      <td>...</td>\n",
       "      <td>0</td>\n",
       "      <td>0</td>\n",
       "      <td>0</td>\n",
       "      <td>0</td>\n",
       "      <td>0</td>\n",
       "      <td>0</td>\n",
       "      <td>0</td>\n",
       "      <td>0</td>\n",
       "      <td>0</td>\n",
       "      <td>0</td>\n",
       "    </tr>\n",
       "    <tr>\n",
       "      <th>...And Justice for All (1979)</th>\n",
       "      <td>0</td>\n",
       "      <td>0</td>\n",
       "      <td>0</td>\n",
       "      <td>0</td>\n",
       "      <td>0</td>\n",
       "      <td>0</td>\n",
       "      <td>0</td>\n",
       "      <td>0</td>\n",
       "      <td>0</td>\n",
       "      <td>0</td>\n",
       "      <td>...</td>\n",
       "      <td>0</td>\n",
       "      <td>0</td>\n",
       "      <td>0</td>\n",
       "      <td>0</td>\n",
       "      <td>0</td>\n",
       "      <td>0</td>\n",
       "      <td>0</td>\n",
       "      <td>0</td>\n",
       "      <td>0</td>\n",
       "      <td>0</td>\n",
       "    </tr>\n",
       "  </tbody>\n",
       "</table>\n",
       "<p>5 rows × 6040 columns</p>\n",
       "</div>"
      ],
      "text/plain": [
       "UserID                         1     2     3     4     5     6     7     8     \\\n",
       "Title                                                                           \n",
       "$1,000,000 Duck (1971)            0     0     0     0     0     0     0     0   \n",
       "'Night Mother (1986)              0     0     0     0     0     0     0     0   \n",
       "'Til There Was You (1997)         0     0     0     0     0     0     0     0   \n",
       "'burbs, The (1989)                0     0     0     0     0     0     0     0   \n",
       "...And Justice for All (1979)     0     0     0     0     0     0     0     0   \n",
       "\n",
       "UserID                         9     10    ...  6031  6032  6033  6034  6035  \\\n",
       "Title                                      ...                                 \n",
       "$1,000,000 Duck (1971)            0     0  ...     0     0     0     0     0   \n",
       "'Night Mother (1986)              0     0  ...     0     0     0     0     0   \n",
       "'Til There Was You (1997)         0     0  ...     0     0     0     0     0   \n",
       "'burbs, The (1989)                0     4  ...     0     0     0     0     0   \n",
       "...And Justice for All (1979)     0     0  ...     0     0     0     0     0   \n",
       "\n",
       "UserID                         6036  6037  6038  6039  6040  \n",
       "Title                                                        \n",
       "$1,000,000 Duck (1971)            0     0     0     0     0  \n",
       "'Night Mother (1986)              3     0     0     0     0  \n",
       "'Til There Was You (1997)         0     0     0     0     0  \n",
       "'burbs, The (1989)                0     0     0     0     0  \n",
       "...And Justice for All (1979)     0     0     0     0     0  \n",
       "\n",
       "[5 rows x 6040 columns]"
      ]
     },
     "execution_count": 3,
     "metadata": {},
     "output_type": "execute_result"
    }
   ],
   "source": [
    "df_movies_ratings = pd.merge(movies,ratings,how='inner',on='MovieID')\n",
    "\n",
    "df_user_rating_iic = pd.pivot_table(df_movies_ratings, values='Rating', index=['Title'], columns=['UserID'],  fill_value=0)\n",
    "df_user_rating_iic.head()"
   ]
  },
  {
   "cell_type": "code",
   "execution_count": 4,
   "metadata": {},
   "outputs": [
    {
     "data": {
      "text/html": [
       "<div>\n",
       "<style scoped>\n",
       "    .dataframe tbody tr th:only-of-type {\n",
       "        vertical-align: middle;\n",
       "    }\n",
       "\n",
       "    .dataframe tbody tr th {\n",
       "        vertical-align: top;\n",
       "    }\n",
       "\n",
       "    .dataframe thead th {\n",
       "        text-align: right;\n",
       "    }\n",
       "</style>\n",
       "<table border=\"1\" class=\"dataframe\">\n",
       "  <thead>\n",
       "    <tr style=\"text-align: right;\">\n",
       "      <th>Title</th>\n",
       "      <th>$1,000,000 Duck (1971)</th>\n",
       "      <th>'Night Mother (1986)</th>\n",
       "      <th>'Til There Was You (1997)</th>\n",
       "      <th>'burbs, The (1989)</th>\n",
       "      <th>...And Justice for All (1979)</th>\n",
       "      <th>1-900 (1994)</th>\n",
       "      <th>10 Things I Hate About You (1999)</th>\n",
       "      <th>101 Dalmatians (1961)</th>\n",
       "      <th>101 Dalmatians (1996)</th>\n",
       "      <th>12 Angry Men (1957)</th>\n",
       "      <th>...</th>\n",
       "      <th>Young Poisoner's Handbook, The (1995)</th>\n",
       "      <th>Young Sherlock Holmes (1985)</th>\n",
       "      <th>Young and Innocent (1937)</th>\n",
       "      <th>Your Friends and Neighbors (1998)</th>\n",
       "      <th>Zachariah (1971)</th>\n",
       "      <th>Zed &amp; Two Noughts, A (1985)</th>\n",
       "      <th>Zero Effect (1998)</th>\n",
       "      <th>Zero Kelvin (Kjærlighetens kjøtere) (1995)</th>\n",
       "      <th>Zeus and Roxanne (1997)</th>\n",
       "      <th>eXistenZ (1999)</th>\n",
       "    </tr>\n",
       "    <tr>\n",
       "      <th>UserID</th>\n",
       "      <th></th>\n",
       "      <th></th>\n",
       "      <th></th>\n",
       "      <th></th>\n",
       "      <th></th>\n",
       "      <th></th>\n",
       "      <th></th>\n",
       "      <th></th>\n",
       "      <th></th>\n",
       "      <th></th>\n",
       "      <th></th>\n",
       "      <th></th>\n",
       "      <th></th>\n",
       "      <th></th>\n",
       "      <th></th>\n",
       "      <th></th>\n",
       "      <th></th>\n",
       "      <th></th>\n",
       "      <th></th>\n",
       "      <th></th>\n",
       "      <th></th>\n",
       "    </tr>\n",
       "  </thead>\n",
       "  <tbody>\n",
       "    <tr>\n",
       "      <th>1</th>\n",
       "      <td>0</td>\n",
       "      <td>0</td>\n",
       "      <td>0</td>\n",
       "      <td>0</td>\n",
       "      <td>0</td>\n",
       "      <td>0</td>\n",
       "      <td>0</td>\n",
       "      <td>0</td>\n",
       "      <td>0</td>\n",
       "      <td>0</td>\n",
       "      <td>...</td>\n",
       "      <td>0</td>\n",
       "      <td>0</td>\n",
       "      <td>0</td>\n",
       "      <td>0</td>\n",
       "      <td>0</td>\n",
       "      <td>0</td>\n",
       "      <td>0</td>\n",
       "      <td>0</td>\n",
       "      <td>0</td>\n",
       "      <td>0</td>\n",
       "    </tr>\n",
       "    <tr>\n",
       "      <th>2</th>\n",
       "      <td>0</td>\n",
       "      <td>0</td>\n",
       "      <td>0</td>\n",
       "      <td>0</td>\n",
       "      <td>0</td>\n",
       "      <td>0</td>\n",
       "      <td>0</td>\n",
       "      <td>0</td>\n",
       "      <td>0</td>\n",
       "      <td>0</td>\n",
       "      <td>...</td>\n",
       "      <td>0</td>\n",
       "      <td>0</td>\n",
       "      <td>0</td>\n",
       "      <td>0</td>\n",
       "      <td>0</td>\n",
       "      <td>0</td>\n",
       "      <td>0</td>\n",
       "      <td>0</td>\n",
       "      <td>0</td>\n",
       "      <td>0</td>\n",
       "    </tr>\n",
       "    <tr>\n",
       "      <th>3</th>\n",
       "      <td>0</td>\n",
       "      <td>0</td>\n",
       "      <td>0</td>\n",
       "      <td>0</td>\n",
       "      <td>0</td>\n",
       "      <td>0</td>\n",
       "      <td>0</td>\n",
       "      <td>0</td>\n",
       "      <td>0</td>\n",
       "      <td>0</td>\n",
       "      <td>...</td>\n",
       "      <td>0</td>\n",
       "      <td>0</td>\n",
       "      <td>0</td>\n",
       "      <td>0</td>\n",
       "      <td>0</td>\n",
       "      <td>0</td>\n",
       "      <td>0</td>\n",
       "      <td>0</td>\n",
       "      <td>0</td>\n",
       "      <td>0</td>\n",
       "    </tr>\n",
       "    <tr>\n",
       "      <th>4</th>\n",
       "      <td>0</td>\n",
       "      <td>0</td>\n",
       "      <td>0</td>\n",
       "      <td>0</td>\n",
       "      <td>0</td>\n",
       "      <td>0</td>\n",
       "      <td>0</td>\n",
       "      <td>0</td>\n",
       "      <td>0</td>\n",
       "      <td>0</td>\n",
       "      <td>...</td>\n",
       "      <td>0</td>\n",
       "      <td>0</td>\n",
       "      <td>0</td>\n",
       "      <td>0</td>\n",
       "      <td>0</td>\n",
       "      <td>0</td>\n",
       "      <td>0</td>\n",
       "      <td>0</td>\n",
       "      <td>0</td>\n",
       "      <td>0</td>\n",
       "    </tr>\n",
       "    <tr>\n",
       "      <th>5</th>\n",
       "      <td>0</td>\n",
       "      <td>0</td>\n",
       "      <td>0</td>\n",
       "      <td>0</td>\n",
       "      <td>0</td>\n",
       "      <td>0</td>\n",
       "      <td>0</td>\n",
       "      <td>0</td>\n",
       "      <td>0</td>\n",
       "      <td>0</td>\n",
       "      <td>...</td>\n",
       "      <td>0</td>\n",
       "      <td>0</td>\n",
       "      <td>0</td>\n",
       "      <td>0</td>\n",
       "      <td>0</td>\n",
       "      <td>0</td>\n",
       "      <td>0</td>\n",
       "      <td>0</td>\n",
       "      <td>0</td>\n",
       "      <td>0</td>\n",
       "    </tr>\n",
       "  </tbody>\n",
       "</table>\n",
       "<p>5 rows × 3706 columns</p>\n",
       "</div>"
      ],
      "text/plain": [
       "Title   $1,000,000 Duck (1971)  'Night Mother (1986)  \\\n",
       "UserID                                                 \n",
       "1                            0                     0   \n",
       "2                            0                     0   \n",
       "3                            0                     0   \n",
       "4                            0                     0   \n",
       "5                            0                     0   \n",
       "\n",
       "Title   'Til There Was You (1997)  'burbs, The (1989)  \\\n",
       "UserID                                                  \n",
       "1                               0                   0   \n",
       "2                               0                   0   \n",
       "3                               0                   0   \n",
       "4                               0                   0   \n",
       "5                               0                   0   \n",
       "\n",
       "Title   ...And Justice for All (1979)  1-900 (1994)  \\\n",
       "UserID                                                \n",
       "1                                   0             0   \n",
       "2                                   0             0   \n",
       "3                                   0             0   \n",
       "4                                   0             0   \n",
       "5                                   0             0   \n",
       "\n",
       "Title   10 Things I Hate About You (1999)  101 Dalmatians (1961)  \\\n",
       "UserID                                                             \n",
       "1                                       0                      0   \n",
       "2                                       0                      0   \n",
       "3                                       0                      0   \n",
       "4                                       0                      0   \n",
       "5                                       0                      0   \n",
       "\n",
       "Title   101 Dalmatians (1996)  12 Angry Men (1957)  ...  \\\n",
       "UserID                                              ...   \n",
       "1                           0                    0  ...   \n",
       "2                           0                    0  ...   \n",
       "3                           0                    0  ...   \n",
       "4                           0                    0  ...   \n",
       "5                           0                    0  ...   \n",
       "\n",
       "Title   Young Poisoner's Handbook, The (1995)  Young Sherlock Holmes (1985)  \\\n",
       "UserID                                                                        \n",
       "1                                           0                             0   \n",
       "2                                           0                             0   \n",
       "3                                           0                             0   \n",
       "4                                           0                             0   \n",
       "5                                           0                             0   \n",
       "\n",
       "Title   Young and Innocent (1937)  Your Friends and Neighbors (1998)  \\\n",
       "UserID                                                                 \n",
       "1                               0                                  0   \n",
       "2                               0                                  0   \n",
       "3                               0                                  0   \n",
       "4                               0                                  0   \n",
       "5                               0                                  0   \n",
       "\n",
       "Title   Zachariah (1971)  Zed & Two Noughts, A (1985)  Zero Effect (1998)  \\\n",
       "UserID                                                                      \n",
       "1                      0                            0                   0   \n",
       "2                      0                            0                   0   \n",
       "3                      0                            0                   0   \n",
       "4                      0                            0                   0   \n",
       "5                      0                            0                   0   \n",
       "\n",
       "Title   Zero Kelvin (Kjærlighetens kjøtere) (1995)  Zeus and Roxanne (1997)  \\\n",
       "UserID                                                                        \n",
       "1                                                0                        0   \n",
       "2                                                0                        0   \n",
       "3                                                0                        0   \n",
       "4                                                0                        0   \n",
       "5                                                0                        0   \n",
       "\n",
       "Title   eXistenZ (1999)  \n",
       "UserID                   \n",
       "1                     0  \n",
       "2                     0  \n",
       "3                     0  \n",
       "4                     0  \n",
       "5                     0  \n",
       "\n",
       "[5 rows x 3706 columns]"
      ]
     },
     "execution_count": 4,
     "metadata": {},
     "output_type": "execute_result"
    }
   ],
   "source": [
    "df_user_rating_uuc = pd.pivot_table(df_movies_ratings, values='Rating', index=['UserID'], columns=['Title'],  fill_value=0)\n",
    "df_user_rating_uuc.head()"
   ]
  },
  {
   "cell_type": "code",
   "execution_count": 5,
   "metadata": {},
   "outputs": [
    {
     "data": {
      "text/plain": [
       "matrix([[0, 0, 0, ..., 0, 0, 0],\n",
       "        [0, 0, 0, ..., 0, 0, 0],\n",
       "        [0, 0, 0, ..., 0, 0, 0],\n",
       "        ...,\n",
       "        [0, 0, 0, ..., 0, 0, 0],\n",
       "        [0, 0, 0, ..., 0, 0, 0],\n",
       "        [0, 0, 0, ..., 0, 0, 0]], dtype=int64)"
      ]
     },
     "execution_count": 5,
     "metadata": {},
     "output_type": "execute_result"
    }
   ],
   "source": [
    "iic_cols = np.matrix(df_user_rating_iic.values)\n",
    "uuc_cols = np.matrix(df_user_rating_uuc.values)\n",
    "iic_cols"
   ]
  },
  {
   "cell_type": "markdown",
   "metadata": {},
   "source": [
    "**Plotting the variance of all features for iic_cols with PCA**"
   ]
  },
  {
   "cell_type": "code",
   "execution_count": 6,
   "metadata": {},
   "outputs": [
    {
     "data": {
      "image/png": "[encoded data removed]",
      "text/plain": [
       "<Figure size 432x288 with 1 Axes>"
      ]
     },
     "metadata": {
      "needs_background": "light"
     },
     "output_type": "display_data"
    }
   ],
   "source": [
    "from sklearn.decomposition import PCA\n",
    "from sklearn.preprocessing import normalize\n",
    "\n",
    "pca = PCA()\n",
    "norm_cols = normalize(iic_cols)\n",
    "pca.fit(norm_cols)\n",
    "features = range(pca.n_components_)\n",
    "\n",
    "plt.bar(features,pca.explained_variance_)\n",
    "plt.xlabel('PCA Features')\n",
    "plt.ylabel('Variance')\n",
    "#use a logarithmic scaling for the y-axis for drawn the comparison bar chart for very small values\n",
    "plt.yscale(\"log\")\n",
    "plt.show()"
   ]
  },
  {
   "cell_type": "markdown",
   "metadata": {},
   "source": [
    "**It seems a lot of features are involved and we can't remove this important features. As we see, the variances are high even after 3500 features.**"
   ]
  },
  {
   "cell_type": "code",
   "execution_count": 7,
   "metadata": {},
   "outputs": [],
   "source": [
    "# Perform the necessary imports\n",
    "from sklearn.decomposition import NMF\n",
    "from sklearn.preprocessing import Normalizer , MaxAbsScaler\n",
    "from sklearn.pipeline import make_pipeline\n",
    "from sklearn.model_selection import train_test_split\n",
    "from sklearn.metrics import explained_variance_score\n",
    "\n",
    "# create training and testing vars\n",
    "Xiic_train, Xiic_test = train_test_split(iic_cols, test_size=0.2)\n",
    "Xuuc_train, Xuuc_test = train_test_split(uuc_cols, test_size=0.2)\n",
    "\n",
    "# Create a MaxAbsScaler: scaler\n",
    "scaler = MaxAbsScaler()\n",
    "\n",
    "# Create a Normalizer: normalizer\n",
    "normalizer = Normalizer()\n",
    "\n",
    "pca = PCA(n_components=18)\n",
    "\n",
    "nmf = NMF(n_components=18)\n",
    "\n",
    "# Create a pipeline: pipeline\n",
    "pipeline = make_pipeline(scaler,pca,normalizer)"
   ]
  },
  {
   "cell_type": "markdown",
   "metadata": {},
   "source": [
    "Just for a instance to see how the technique works, we create a pipline to find similar movies with movie 'Jurassic Park (1993)'"
   ]
  },
  {
   "cell_type": "code",
   "execution_count": 100,
   "metadata": {},
   "outputs": [
    {
     "name": "stdout",
     "output_type": "stream",
     "text": [
      "Title\n",
      "Jurassic Park (1993)                                1.000000\n",
      "Men in Black (1997)                                 0.968966\n",
      "Terminator 2: Judgment Day (1991)                   0.967572\n",
      "Matrix, The (1999)                                  0.959300\n",
      "Star Wars: Episode I - The Phantom Menace (1999)    0.952072\n",
      "dtype: float64\n"
     ]
    }
   ],
   "source": [
    "pipeline = make_pipeline(scaler,pca,normalizer)\n",
    "norm_features = pipeline.fit_transform(df_user_rating_iic)\n",
    "\n",
    "# Create a DataFrame: df\n",
    "df = pd.DataFrame(norm_features,index=df_user_rating_iic.index)\n",
    "\n",
    "# Select row of 'Bruce Springsteen': artist\n",
    "movie = df.loc['Jurassic Park (1993)']\n",
    "\n",
    "# Compute cosine similarities: similarities\n",
    "similarities = df.dot(movie)\n",
    "\n",
    "# Display those with highest cosine similarity\n",
    "print(similarities.nlargest())"
   ]
  },
  {
   "cell_type": "markdown",
   "metadata": {},
   "source": [
    "Now we perform both thechniques(PCA,NMF) for both user-user collaborative filtering and Item-Item Collaborative filtering and then try compare the accuracy of each technique with the following method."
   ]
  },
  {
   "cell_type": "code",
   "execution_count": 8,
   "metadata": {},
   "outputs": [],
   "source": [
    "def get_score(model, data, scorer=explained_variance_score):\n",
    "    \"\"\" Estimate performance of the model on the data \"\"\"\n",
    "    prediction = model.inverse_transform(model.transform(data))\n",
    "    return scorer(data, prediction)"
   ]
  },
  {
   "cell_type": "markdown",
   "metadata": {},
   "source": [
    "#  User-User Collaborative filtering"
   ]
  },
  {
   "cell_type": "markdown",
   "metadata": {},
   "source": [
    "**PCA**"
   ]
  },
  {
   "cell_type": "code",
   "execution_count": 9,
   "metadata": {},
   "outputs": [
    {
     "name": "stdout",
     "output_type": "stream",
     "text": [
      "0.33367386262604876\n"
     ]
    },
    {
     "data": {
      "text/plain": [
       "(PCA(copy=True, iterated_power='auto', n_components=18, random_state=None,\n",
       "     svd_solver='auto', tol=0.0, whiten=False), None)"
      ]
     },
     "execution_count": 9,
     "metadata": {},
     "output_type": "execute_result"
    }
   ],
   "source": [
    "scaler = MaxAbsScaler().fit(Xuuc_train)\n",
    "Xuuc_train_sc = scaler.transform(Xuuc_train)\n",
    "Xuuc_test_sc = scaler.transform(Xuuc_test)\n",
    "pca.fit(Xuuc_train_sc),print(sum(pca.explained_variance_ratio_))"
   ]
  },
  {
   "cell_type": "markdown",
   "metadata": {},
   "source": [
    "**NMF**"
   ]
  },
  {
   "cell_type": "code",
   "execution_count": 10,
   "metadata": {},
   "outputs": [
    {
     "data": {
      "text/plain": [
       "NMF(alpha=0.0, beta_loss='frobenius', init=None, l1_ratio=0.0, max_iter=200,\n",
       "    n_components=18, random_state=None, shuffle=False, solver='cd', tol=0.0001,\n",
       "    verbose=0)"
      ]
     },
     "execution_count": 10,
     "metadata": {},
     "output_type": "execute_result"
    }
   ],
   "source": [
    "nmf.fit(Xuuc_train_sc)"
   ]
  },
  {
   "cell_type": "markdown",
   "metadata": {},
   "source": [
    "**Comparing two techniques**"
   ]
  },
  {
   "cell_type": "code",
   "execution_count": 118,
   "metadata": {},
   "outputs": [
    {
     "name": "stdout",
     "output_type": "stream",
     "text": [
      "train set performance\n",
      "0.1739691335797704\n",
      "0.15988230956603688\n",
      "test set performance\n",
      "0.17365900480052268\n",
      "0.1594946866977856\n"
     ]
    }
   ],
   "source": [
    "print('train set performance')\n",
    "print(get_score(pca, Xuuc_train_sc))\n",
    "print(get_score(nmf, Xuuc_train_sc))\n",
    "\n",
    "print('test set performance')\n",
    "print(get_score(pca, Xuuc_test_sc))\n",
    "print(get_score(nmf, Xuuc_test_sc))"
   ]
  },
  {
   "cell_type": "markdown",
   "metadata": {},
   "source": [
    "# How to choose the number of components"
   ]
  },
  {
   "cell_type": "code",
   "execution_count": 125,
   "metadata": {},
   "outputs": [
    {
     "name": "stdout",
     "output_type": "stream",
     "text": [
      "[0.08186290446509327, 0.09229895506935226, 0.1016371935990178, 0.10898958415747735, 0.11386617963264502, 0.12172578735192513, 0.12793941122010707, 0.1322281169089284, 0.13613194275232524, 0.14079001665531615, 0.14371486341278664, 0.14684181528450246, 0.1491012402208589, 0.15250581860336263, 0.15499162934089866, 0.15741892319736908, 0.15939578710595173, 0.1622659262814873, 0.1635238449414438, 0.16546269931386917, 0.1656431969743758, 0.1669446379100128, 0.1688012705642873, 0.17080992747409893, 0.1719841397514235, 0.17260992949396525, 0.17583459187601688, 0.17640818113321566, 0.17690623121333468, 0.17784372278958896, 0.17943917150154445, 0.18007992981250817, 0.18160095153814793, 0.1831877170348339, 0.18268393209460207, 0.18374332179883776, 0.18465910565430718, 0.18708641282020783, 0.18815799193637853, 0.18899024301096784, 0.18983209450267652, 0.1911244888849236, 0.19124500811934025, 0.19191741414411354, 0.19374625325908787, 0.19513980488916186, 0.19489251695889515, 0.19453088971366703, 0.1968872061517773]\n",
      "[0.07946688163636824, 0.08895077332036308, 0.09919230875260052, 0.10605945877714948, 0.11055166923625119, 0.1200061976257915, 0.12577648512824488, 0.13055342846294918, 0.13446983863221526, 0.13896312723154505, 0.1415479569877201, 0.1445489141053784, 0.14667317778819844, 0.14915115566177523, 0.1516623125298205, 0.1535103925410386, 0.15541323276656052, 0.15753326662811826, 0.15898511653733768, 0.16076917976783983, 0.16115926479194012, 0.1615541878727307, 0.16369437590095273, 0.1647212276331528, 0.166403221124462, 0.1670582619589673, 0.16894935162239771, 0.1694564135279647, 0.17032351597021417, 0.16996595438959172, 0.17146506636161324, 0.1720509320141442, 0.17318245599374552, 0.1738219399423184, 0.17424917116075542, 0.17504342329077233, 0.176307782428985, 0.17676087254798012, 0.1769409940323674, 0.17760091908244977, 0.17852053072547214, 0.1798790969656086, 0.18104182037742536, 0.18052794847092016, 0.18192807828004953, 0.18276876022810118, 0.1828500747291165, 0.18219479368532002, 0.18427272634888642]\n",
      "Best accuracy for train data is 0.1968872061517773 for 50 components\n",
      "Best accuracy for test data is 0.18427272634888642 for 50 components\n"
     ]
    }
   ],
   "source": [
    "perfs_train = []\n",
    "perfs_test = []\n",
    "train_best_number_component = 1\n",
    "test_best_number_component = 1\n",
    "best_train_score = 0\n",
    "best_test_score = 0\n",
    "for k in range (2, 51):\n",
    "    nmf = NMF(n_components=k).fit(Xuuc_train_sc)\n",
    "    train_score = get_score(nmf, Xuuc_train_sc)\n",
    "    test_score = get_score(nmf, Xuuc_test_sc) \n",
    "    if train_score > best_train_score :\n",
    "        best_train_score = train_score\n",
    "        train_best_number_component = k\n",
    "    if test_score > best_test_score :\n",
    "        best_test_score = test_score\n",
    "        test_best_number_component = k\n",
    "    perfs_train.append(train_score)\n",
    "    perfs_test.append(test_score)\n",
    "print(perfs_train)\n",
    "print(perfs_test)\n",
    "print('Best accuracy for train data is '  + str(best_train_score) + ' for ' + str(train_best_number_component) + ' components')\n",
    "print('Best accuracy for test data is '  + str(best_test_score) + ' for ' + str(test_best_number_component) + ' components')"
   ]
  },
  {
   "cell_type": "code",
   "execution_count": 127,
   "metadata": {},
   "outputs": [
    {
     "name": "stdout",
     "output_type": "stream",
     "text": [
      "[0.19648669678767502, 0.1986998542463201, 0.19963866223962112, 0.1988488584080258, 0.20019290724023386, 0.19953487320072297, 0.20061212564543424, 0.2010800346533963, 0.2018162776127691, 0.21291570023798512, 0.21349519560141006, 0.20451635831228682, 0.20424502766902078, 0.21519498319587593, 0.20603859013474868, 0.21110491127963812, 0.2086471018161734, 0.21558238173594707, 0.2151150352416, 0.2107460819716614, 0.21505695437573208, 0.21912855355284014, 0.21017566994099582, 0.21931441187907186, 0.2213747790335254, 0.21778004918016822, 0.21627693120322838, 0.22044627743633627, 0.22251998446994808, 0.22273913465476955, 0.22160017087403683, 0.22018952563826064, 0.22090939050312378, 0.21783849569227445, 0.226699400752907, 0.22092607069159986, 0.22640522609448263, 0.22565118525239158, 0.2275943101173547, 0.22682433157754986, 0.22310768266714393, 0.22965639204702049, 0.22998951060942885, 0.23009000220930342, 0.23030215862752376, 0.23070328505692309, 0.2283613697160685, 0.2318262776907529, 0.2323900565958018, 0.23388936322217116]\n",
      "[0.1834649441945191, 0.18561635230153978, 0.18631048299318487, 0.1862065012035435, 0.18802193235153142, 0.18636604116467378, 0.18816591791006662, 0.1891763540270314, 0.18891181197216128, 0.18956159051981405, 0.1895120121834147, 0.19161284678026333, 0.19078431209170502, 0.19106209347868786, 0.19309998890392963, 0.1910247466391934, 0.19410480775043681, 0.19271483510905882, 0.19085689560570104, 0.19267622659722297, 0.19358639951347298, 0.19356808659246155, 0.19532466447427604, 0.1935317529961261, 0.19483863994894987, 0.19455388831021525, 0.1947058129300952, 0.19552391984289746, 0.19634817147933775, 0.19643337405629627, 0.19653518453983915, 0.19493120609372266, 0.19805391672770165, 0.1980836747161494, 0.1991205242215085, 0.19773278035306868, 0.1993368619351905, 0.1991423805971849, 0.19977068076790946, 0.1994361197621118, 0.19988006828745594, 0.2014836965397848, 0.20231996402403918, 0.20183946973355785, 0.20170147884263542, 0.20194586029035805, 0.2015749450236885, 0.20359923455115064, 0.20396382520369163, 0.20436846088564078]\n",
      "Best accuracy for train data is 0.23388936322217116 for 100 components\n",
      "Best accuracy for test data is 0.20436846088564078 for 100 components\n"
     ]
    }
   ],
   "source": [
    "perfs_train = []\n",
    "perfs_test = []\n",
    "train_best_number_component = 1\n",
    "test_best_number_component = 1\n",
    "best_train_score = 0\n",
    "best_test_score = 0\n",
    "for k in range (51, 101):\n",
    "    nmf = NMF(n_components=k).fit(Xuuc_train_sc)\n",
    "    train_score = get_score(nmf, Xuuc_train_sc)\n",
    "    test_score = get_score(nmf, Xuuc_test_sc) \n",
    "    if train_score > best_train_score :\n",
    "        best_train_score = train_score\n",
    "        train_best_number_component = k\n",
    "    if test_score > best_test_score :\n",
    "        best_test_score = test_score\n",
    "        test_best_number_component = k\n",
    "    perfs_train.append(train_score)\n",
    "    perfs_test.append(test_score)\n",
    "print(perfs_train)\n",
    "print(perfs_test)\n",
    "print('Best accuracy for train data is '  + str(best_train_score) + ' for ' + str(train_best_number_component) + ' components')\n",
    "print('Best accuracy for test data is '  + str(best_test_score) + ' for ' + str(test_best_number_component) + ' components')"
   ]
  },
  {
   "cell_type": "markdown",
   "metadata": {},
   "source": [
    "**As we see, acuuracy is getting higher as we increased number of components and we can't continue because of "
   ]
  },
  {
   "cell_type": "markdown",
   "metadata": {},
   "source": [
    "# Item-Item Collaborative filtering"
   ]
  },
  {
   "cell_type": "markdown",
   "metadata": {},
   "source": [
    "**PCA**"
   ]
  },
  {
   "cell_type": "code",
   "execution_count": 133,
   "metadata": {},
   "outputs": [
    {
     "name": "stdout",
     "output_type": "stream",
     "text": [
      "0.37312343623353866\n"
     ]
    },
    {
     "data": {
      "text/plain": [
       "(PCA(copy=True, iterated_power='auto', n_components=18, random_state=None,\n",
       "     svd_solver='auto', tol=0.0, whiten=False), None)"
      ]
     },
     "execution_count": 133,
     "metadata": {},
     "output_type": "execute_result"
    }
   ],
   "source": [
    "scaler = MaxAbsScaler().fit(Xiic_train)\n",
    "Xiic_train_sc = scaler.transform(Xiic_train)\n",
    "Xiic_test_sc = scaler.transform(Xiic_test)\n",
    "pca.fit(Xiic_train_sc),print(sum(pca.explained_variance_ratio_))"
   ]
  },
  {
   "cell_type": "markdown",
   "metadata": {},
   "source": [
    "**NMF**"
   ]
  },
  {
   "cell_type": "code",
   "execution_count": 129,
   "metadata": {},
   "outputs": [
    {
     "data": {
      "text/plain": [
       "NMF(alpha=0.0, beta_loss='frobenius', init=None, l1_ratio=0.0, max_iter=200,\n",
       "    n_components=100, random_state=None, shuffle=False, solver='cd', tol=0.0001,\n",
       "    verbose=0)"
      ]
     },
     "execution_count": 129,
     "metadata": {},
     "output_type": "execute_result"
    }
   ],
   "source": [
    "nmf.fit(Xiic_train_sc)"
   ]
  },
  {
   "cell_type": "markdown",
   "metadata": {},
   "source": [
    "**Comparing two techniques**"
   ]
  },
  {
   "cell_type": "code",
   "execution_count": 134,
   "metadata": {},
   "outputs": [
    {
     "name": "stdout",
     "output_type": "stream",
     "text": [
      "train set performance\n",
      "0.2944413953026352\n",
      "0.4543289929438562\n",
      "test set performance\n",
      "0.2328569579931629\n",
      "0.27497884487460506\n"
     ]
    }
   ],
   "source": [
    "print('train set performance')\n",
    "print(get_score(pca, Xiic_train_sc))\n",
    "print(get_score(nmf, Xiic_train_sc))\n",
    "\n",
    "print('test set performance')\n",
    "print(get_score(pca, Xiic_test_sc))\n",
    "print(get_score(nmf, Xiic_test_sc))"
   ]
  },
  {
   "cell_type": "markdown",
   "metadata": {},
   "source": [
    "As wee see these techniques have low accuray on this data."
   ]
  },
  {
   "cell_type": "markdown",
   "metadata": {},
   "source": [
    "# Using Singular Value Decomposition(SVD) for Collaborative Filtering"
   ]
  },
  {
   "cell_type": "markdown",
   "metadata": {},
   "source": [
    "One way to handle the scalability and sparsity issue created by collaborative filtering is to leverage a latent factor model to capture the similarity between users and items.singular value decomposition is particularly useful for making recommendations."
   ]
  },
  {
   "cell_type": "markdown",
   "metadata": {},
   "source": [
    "we nee normalize data by deducting each users mean"
   ]
  },
  {
   "cell_type": "code",
   "execution_count": 373,
   "metadata": {},
   "outputs": [],
   "source": [
    "user_ratings_mean = np.mean(uuc_cols, axis = 1)\n",
    "uuc_cols_demeaned = uuc_cols - user_ratings_mean.reshape(-1, 1)"
   ]
  },
  {
   "cell_type": "code",
   "execution_count": 374,
   "metadata": {},
   "outputs": [],
   "source": [
    "from scipy.sparse import csc_matrix\n",
    "from scipy.sparse.linalg import svds\n",
    "A = csc_matrix(uuc_cols, dtype=float)\n",
    "u, s, vt = svds(A, k=2) # k is the number of factors"
   ]
  },
  {
   "cell_type": "code",
   "execution_count": 375,
   "metadata": {},
   "outputs": [],
   "source": [
    "# convert to the diagonal matrix form\n",
    "sigma = np.diag(s)"
   ]
  },
  {
   "cell_type": "code",
   "execution_count": 376,
   "metadata": {},
   "outputs": [
    {
     "data": {
      "text/html": [
       "<div>\n",
       "<style scoped>\n",
       "    .dataframe tbody tr th:only-of-type {\n",
       "        vertical-align: middle;\n",
       "    }\n",
       "\n",
       "    .dataframe tbody tr th {\n",
       "        vertical-align: top;\n",
       "    }\n",
       "\n",
       "    .dataframe thead th {\n",
       "        text-align: right;\n",
       "    }\n",
       "</style>\n",
       "<table border=\"1\" class=\"dataframe\">\n",
       "  <thead>\n",
       "    <tr style=\"text-align: right;\">\n",
       "      <th>Title</th>\n",
       "      <th>$1,000,000 Duck (1971)</th>\n",
       "      <th>'Night Mother (1986)</th>\n",
       "      <th>'Til There Was You (1997)</th>\n",
       "      <th>'burbs, The (1989)</th>\n",
       "      <th>...And Justice for All (1979)</th>\n",
       "      <th>1-900 (1994)</th>\n",
       "      <th>10 Things I Hate About You (1999)</th>\n",
       "      <th>101 Dalmatians (1961)</th>\n",
       "      <th>101 Dalmatians (1996)</th>\n",
       "      <th>12 Angry Men (1957)</th>\n",
       "      <th>...</th>\n",
       "      <th>Young Poisoner's Handbook, The (1995)</th>\n",
       "      <th>Young Sherlock Holmes (1985)</th>\n",
       "      <th>Young and Innocent (1937)</th>\n",
       "      <th>Your Friends and Neighbors (1998)</th>\n",
       "      <th>Zachariah (1971)</th>\n",
       "      <th>Zed &amp; Two Noughts, A (1985)</th>\n",
       "      <th>Zero Effect (1998)</th>\n",
       "      <th>Zero Kelvin (Kjærlighetens kjøtere) (1995)</th>\n",
       "      <th>Zeus and Roxanne (1997)</th>\n",
       "      <th>eXistenZ (1999)</th>\n",
       "    </tr>\n",
       "  </thead>\n",
       "  <tbody>\n",
       "    <tr>\n",
       "      <th>0</th>\n",
       "      <td>0.072704</td>\n",
       "      <td>0.093469</td>\n",
       "      <td>0.073733</td>\n",
       "      <td>0.142480</td>\n",
       "      <td>0.141603</td>\n",
       "      <td>0.060066</td>\n",
       "      <td>0.207099</td>\n",
       "      <td>0.247683</td>\n",
       "      <td>0.140864</td>\n",
       "      <td>0.322552</td>\n",
       "      <td>...</td>\n",
       "      <td>0.098412</td>\n",
       "      <td>0.194444</td>\n",
       "      <td>0.066231</td>\n",
       "      <td>0.110806</td>\n",
       "      <td>0.060065</td>\n",
       "      <td>0.075339</td>\n",
       "      <td>0.182808</td>\n",
       "      <td>0.061501</td>\n",
       "      <td>0.065760</td>\n",
       "      <td>0.169876</td>\n",
       "    </tr>\n",
       "    <tr>\n",
       "      <th>1</th>\n",
       "      <td>0.153209</td>\n",
       "      <td>0.171967</td>\n",
       "      <td>0.157121</td>\n",
       "      <td>0.325278</td>\n",
       "      <td>0.253048</td>\n",
       "      <td>0.129371</td>\n",
       "      <td>0.504528</td>\n",
       "      <td>0.495709</td>\n",
       "      <td>0.321200</td>\n",
       "      <td>0.492807</td>\n",
       "      <td>...</td>\n",
       "      <td>0.186736</td>\n",
       "      <td>0.419380</td>\n",
       "      <td>0.135544</td>\n",
       "      <td>0.210205</td>\n",
       "      <td>0.130184</td>\n",
       "      <td>0.145655</td>\n",
       "      <td>0.374788</td>\n",
       "      <td>0.131497</td>\n",
       "      <td>0.142612</td>\n",
       "      <td>0.365183</td>\n",
       "    </tr>\n",
       "    <tr>\n",
       "      <th>2</th>\n",
       "      <td>0.066225</td>\n",
       "      <td>0.069309</td>\n",
       "      <td>0.068935</td>\n",
       "      <td>0.170068</td>\n",
       "      <td>0.108692</td>\n",
       "      <td>0.053698</td>\n",
       "      <td>0.283295</td>\n",
       "      <td>0.250331</td>\n",
       "      <td>0.167583</td>\n",
       "      <td>0.200978</td>\n",
       "      <td>...</td>\n",
       "      <td>0.078877</td>\n",
       "      <td>0.218217</td>\n",
       "      <td>0.055132</td>\n",
       "      <td>0.091239</td>\n",
       "      <td>0.054396</td>\n",
       "      <td>0.058099</td>\n",
       "      <td>0.187271</td>\n",
       "      <td>0.054623</td>\n",
       "      <td>0.061487</td>\n",
       "      <td>0.187131</td>\n",
       "    </tr>\n",
       "    <tr>\n",
       "      <th>3</th>\n",
       "      <td>0.030543</td>\n",
       "      <td>0.034015</td>\n",
       "      <td>0.031836</td>\n",
       "      <td>0.083177</td>\n",
       "      <td>0.056189</td>\n",
       "      <td>0.023763</td>\n",
       "      <td>0.139397</td>\n",
       "      <td>0.129095</td>\n",
       "      <td>0.081923</td>\n",
       "      <td>0.115110</td>\n",
       "      <td>...</td>\n",
       "      <td>0.038712</td>\n",
       "      <td>0.109585</td>\n",
       "      <td>0.025020</td>\n",
       "      <td>0.045396</td>\n",
       "      <td>0.024068</td>\n",
       "      <td>0.027251</td>\n",
       "      <td>0.094834</td>\n",
       "      <td>0.024314</td>\n",
       "      <td>0.027757</td>\n",
       "      <td>0.093452</td>\n",
       "    </tr>\n",
       "    <tr>\n",
       "      <th>4</th>\n",
       "      <td>0.192394</td>\n",
       "      <td>0.234243</td>\n",
       "      <td>0.194106</td>\n",
       "      <td>0.319744</td>\n",
       "      <td>0.326669</td>\n",
       "      <td>0.168437</td>\n",
       "      <td>0.435262</td>\n",
       "      <td>0.522582</td>\n",
       "      <td>0.316807</td>\n",
       "      <td>0.682042</td>\n",
       "      <td>...</td>\n",
       "      <td>0.242949</td>\n",
       "      <td>0.418727</td>\n",
       "      <td>0.180788</td>\n",
       "      <td>0.266433</td>\n",
       "      <td>0.168336</td>\n",
       "      <td>0.198914</td>\n",
       "      <td>0.399423</td>\n",
       "      <td>0.171228</td>\n",
       "      <td>0.178927</td>\n",
       "      <td>0.373110</td>\n",
       "    </tr>\n",
       "  </tbody>\n",
       "</table>\n",
       "<p>5 rows × 3706 columns</p>\n",
       "</div>"
      ],
      "text/plain": [
       "Title  $1,000,000 Duck (1971)  'Night Mother (1986)  \\\n",
       "0                    0.072704              0.093469   \n",
       "1                    0.153209              0.171967   \n",
       "2                    0.066225              0.069309   \n",
       "3                    0.030543              0.034015   \n",
       "4                    0.192394              0.234243   \n",
       "\n",
       "Title  'Til There Was You (1997)  'burbs, The (1989)  \\\n",
       "0                       0.073733            0.142480   \n",
       "1                       0.157121            0.325278   \n",
       "2                       0.068935            0.170068   \n",
       "3                       0.031836            0.083177   \n",
       "4                       0.194106            0.319744   \n",
       "\n",
       "Title  ...And Justice for All (1979)  1-900 (1994)  \\\n",
       "0                           0.141603      0.060066   \n",
       "1                           0.253048      0.129371   \n",
       "2                           0.108692      0.053698   \n",
       "3                           0.056189      0.023763   \n",
       "4                           0.326669      0.168437   \n",
       "\n",
       "Title  10 Things I Hate About You (1999)  101 Dalmatians (1961)  \\\n",
       "0                               0.207099               0.247683   \n",
       "1                               0.504528               0.495709   \n",
       "2                               0.283295               0.250331   \n",
       "3                               0.139397               0.129095   \n",
       "4                               0.435262               0.522582   \n",
       "\n",
       "Title  101 Dalmatians (1996)  12 Angry Men (1957)  ...  \\\n",
       "0                   0.140864             0.322552  ...   \n",
       "1                   0.321200             0.492807  ...   \n",
       "2                   0.167583             0.200978  ...   \n",
       "3                   0.081923             0.115110  ...   \n",
       "4                   0.316807             0.682042  ...   \n",
       "\n",
       "Title  Young Poisoner's Handbook, The (1995)  Young Sherlock Holmes (1985)  \\\n",
       "0                                   0.098412                      0.194444   \n",
       "1                                   0.186736                      0.419380   \n",
       "2                                   0.078877                      0.218217   \n",
       "3                                   0.038712                      0.109585   \n",
       "4                                   0.242949                      0.418727   \n",
       "\n",
       "Title  Young and Innocent (1937)  Your Friends and Neighbors (1998)  \\\n",
       "0                       0.066231                           0.110806   \n",
       "1                       0.135544                           0.210205   \n",
       "2                       0.055132                           0.091239   \n",
       "3                       0.025020                           0.045396   \n",
       "4                       0.180788                           0.266433   \n",
       "\n",
       "Title  Zachariah (1971)  Zed & Two Noughts, A (1985)  Zero Effect (1998)  \\\n",
       "0              0.060065                     0.075339            0.182808   \n",
       "1              0.130184                     0.145655            0.374788   \n",
       "2              0.054396                     0.058099            0.187271   \n",
       "3              0.024068                     0.027251            0.094834   \n",
       "4              0.168336                     0.198914            0.399423   \n",
       "\n",
       "Title  Zero Kelvin (Kjærlighetens kjøtere) (1995)  Zeus and Roxanne (1997)  \\\n",
       "0                                        0.061501                 0.065760   \n",
       "1                                        0.131497                 0.142612   \n",
       "2                                        0.054623                 0.061487   \n",
       "3                                        0.024314                 0.027757   \n",
       "4                                        0.171228                 0.178927   \n",
       "\n",
       "Title  eXistenZ (1999)  \n",
       "0             0.169876  \n",
       "1             0.365183  \n",
       "2             0.187131  \n",
       "3             0.093452  \n",
       "4             0.373110  \n",
       "\n",
       "[5 rows x 3706 columns]"
      ]
     },
     "execution_count": 376,
     "metadata": {},
     "output_type": "execute_result"
    }
   ],
   "source": [
    "# calculating svd and also added back the mean\n",
    "all_user_predicted_ratings = np.dot(np.dot(u, sigma), vt) + user_ratings_mean.reshape(-1, 1)\n",
    "preds_df = pd.DataFrame(all_user_predicted_ratings, columns = df_user_rating_uuc.columns)\n",
    "preds_df.head()"
   ]
  },
  {
   "cell_type": "code",
   "execution_count": 307,
   "metadata": {},
   "outputs": [
    {
     "data": {
      "text/plain": [
       "['Toy Story (1995)',\n",
       " 'Toy Story 2 (1999)',\n",
       " \"Schindler's List (1993)\",\n",
       " \"Bug's Life, A (1998)\",\n",
       " 'Beauty and the Beast (1991)',\n",
       " 'Aladdin (1992)',\n",
       " 'Babe (1995)',\n",
       " 'Back to the Future (1985)',\n",
       " 'Lion King, The (1994)',\n",
       " 'Wizard of Oz, The (1939)']"
      ]
     },
     "execution_count": 307,
     "metadata": {},
     "output_type": "execute_result"
    }
   ],
   "source": [
    "# before writing function, try prediction for one user\n",
    "# try to find recommendation for userid = 1\n",
    "user_full = preds_df.iloc[0].sort_values(ascending=False)\n",
    "user_data = df_user_rating_uuc.iloc[1].sort_values(ascending=False)\n",
    "np.count_nonzero(user_data)\n",
    "\n",
    "user_data[user_data != 0].index\n",
    "df_user_rating_uuc.columns\n",
    "user_non_ratings_movies = [x for x in df_user_rating_uuc.columns if x not in user_data[user_data != 0].index]\n",
    "\n",
    "#preds_df.iloc[1].sort_values(ascending=False)\n",
    "#preds_df[[preds_df.columns.isin(a)]]\n",
    "d = preds_df.iloc[0].sort_values(ascending=False)\n",
    "#d[x for x in d.index  if x  in user_non_ratings_movies]\n",
    "s = d[d.index.isin(user_non_ratings_movies)]\n",
    "s.head(10).index.tolist()\n"
   ]
  },
  {
   "cell_type": "code",
   "execution_count": 365,
   "metadata": {},
   "outputs": [
    {
     "name": "stdout",
     "output_type": "stream",
     "text": [
      "User 1 has already rated 129 movies.\n",
      "Recommending the highest 10 predicted ratings movies not already rated.\n"
     ]
    },
    {
     "data": {
      "text/plain": [
       "['Star Wars: Episode IV - A New Hope (1977)',\n",
       " 'Fargo (1996)',\n",
       " 'Godfather, The (1972)',\n",
       " \"Schindler's List (1993)\",\n",
       " 'Pulp Fiction (1994)',\n",
       " 'L.A. Confidential (1997)',\n",
       " 'Back to the Future (1985)',\n",
       " 'Princess Bride, The (1987)',\n",
       " 'Sixth Sense, The (1999)',\n",
       " 'E.T. the Extra-Terrestrial (1982)']"
      ]
     },
     "execution_count": 365,
     "metadata": {},
     "output_type": "execute_result"
    }
   ],
   "source": [
    "def recommend_movies(predictions_df, userID, user_ratings_df, num_recommendations=5):\n",
    "    \n",
    "    # Get and sort the user's predictions\n",
    "    user_row_number = userID - 1# UserID starts at 1, not 0\n",
    "    sorted_user_predictions = predictions_df.iloc[user_row_number].sort_values(ascending=False)\n",
    "    \n",
    "    # Get the user's data and merge in the movie information.\n",
    "    user_data = user_ratings_df.iloc[userID]\n",
    "\n",
    "\n",
    "    print ('User {0} has already rated {1} movies.'.format(userID, np.count_nonzero(user_data)))\n",
    "    print( 'Recommending the highest {0} predicted ratings movies not already rated.'.format(num_recommendations))\n",
    "    \n",
    "    user_non_ratings_movies = [x for x in user_ratings_df.columns if x not in user_data[user_data != 0].index]\n",
    "    \n",
    "    \n",
    "    recommendations = sorted_user_predictions[sorted_user_predictions.index.isin(user_non_ratings_movies)].head(num_recommendations).index.tolist()\n",
    "    \n",
    "\n",
    "    return recommendations\n",
    " \n",
    "recommend_movies(preds_df, 1, df_user_rating_uuc, 10)"
   ]
  },
  {
   "cell_type": "markdown",
   "metadata": {},
   "source": [
    "# Tuning model for determining optimum number of K with Silhouette Method"
   ]
  },
  {
   "cell_type": "markdown",
   "metadata": {},
   "source": [
    "**To determine the optimum number of topics is to consider each topic as a cluster and find out the effectiveness of a cluster using the Silhouette coefficient.**"
   ]
  },
  {
   "cell_type": "code",
   "execution_count": 357,
   "metadata": {},
   "outputs": [],
   "source": [
    "from sklearn.metrics import silhouette_samples, silhouette_score\n",
    "import matplotlib.cm as cm"
   ]
  },
  {
   "cell_type": "markdown",
   "metadata": {},
   "source": [
    "**Using K-Means Clustering**"
   ]
  },
  {
   "cell_type": "code",
   "execution_count": 361,
   "metadata": {},
   "outputs": [
    {
     "name": "stdout",
     "output_type": "stream",
     "text": [
      "For n_clusters = 2 The average silhouette_score is : 0.30800188841487086\n",
      "For n_clusters = 3 The average silhouette_score is : 0.15946213680849425\n",
      "For n_clusters = 4 The average silhouette_score is : 0.16778430197501149\n",
      "For n_clusters = 5 The average silhouette_score is : 0.0951150547775839\n",
      "For n_clusters = 6 The average silhouette_score is : 0.09575201346410289\n",
      "For n_clusters = 7 The average silhouette_score is : 0.08854351119866095\n",
      "For n_clusters = 8 The average silhouette_score is : 0.05347370434202014\n",
      "For n_clusters = 9 The average silhouette_score is : 0.05184626294860819\n",
      "For n_clusters = 10 The average silhouette_score is : 0.037985091677616406\n",
      "For n_clusters = 11 The average silhouette_score is : 0.031406500886898836\n",
      "For n_clusters = 12 The average silhouette_score is : -0.01685566887005011\n",
      "For n_clusters = 13 The average silhouette_score is : 0.05300643186677158\n",
      "For n_clusters = 14 The average silhouette_score is : 0.040486774734042205\n",
      "For n_clusters = 15 The average silhouette_score is : 0.04348639444789713\n",
      "For n_clusters = 16 The average silhouette_score is : -0.018465031241934774\n",
      "For n_clusters = 17 The average silhouette_score is : -0.019396644107448298\n",
      "For n_clusters = 18 The average silhouette_score is : -0.024044000827470127\n",
      "For n_clusters = 19 The average silhouette_score is : -0.022319273325079735\n",
      "For n_clusters = 20 The average silhouette_score is : -0.02262906163958732\n",
      "For n_clusters = 21 The average silhouette_score is : -0.025391655997878806\n",
      "For n_clusters = 22 The average silhouette_score is : -0.024459208728050796\n",
      "For n_clusters = 23 The average silhouette_score is : -0.025534989686390154\n",
      "For n_clusters = 24 The average silhouette_score is : -0.021245802910065507\n",
      "For n_clusters = 25 The average silhouette_score is : -0.023810794994161687\n",
      "For n_clusters = 26 The average silhouette_score is : -0.057331850833235144\n",
      "For n_clusters = 27 The average silhouette_score is : -0.023892755924139093\n",
      "For n_clusters = 28 The average silhouette_score is : -0.04381385560613636\n",
      "For n_clusters = 29 The average silhouette_score is : -0.027478921228241752\n",
      "For n_clusters = 30 The average silhouette_score is : -0.0614828109436414\n",
      "For n_clusters = 31 The average silhouette_score is : -0.040089113863059175\n",
      "For n_clusters = 32 The average silhouette_score is : -0.05951574435798576\n",
      "For n_clusters = 33 The average silhouette_score is : -0.029699948495985416\n",
      "For n_clusters = 34 The average silhouette_score is : -0.042966091085687136\n",
      "For n_clusters = 35 The average silhouette_score is : -0.03702920639938635\n",
      "For n_clusters = 36 The average silhouette_score is : -0.060246406842227214\n",
      "For n_clusters = 37 The average silhouette_score is : -0.030125790499140128\n",
      "For n_clusters = 38 The average silhouette_score is : -0.061459050007071636\n",
      "For n_clusters = 39 The average silhouette_score is : -0.031110542647068674\n",
      "For n_clusters = 40 The average silhouette_score is : -0.02625323238918031\n",
      "For n_clusters = 41 The average silhouette_score is : -0.0591378309794573\n",
      "For n_clusters = 42 The average silhouette_score is : -0.02808553190922835\n",
      "For n_clusters = 43 The average silhouette_score is : -0.0357367916674806\n",
      "For n_clusters = 44 The average silhouette_score is : -0.02963250848058316\n",
      "For n_clusters = 45 The average silhouette_score is : -0.04905693515421174\n",
      "For n_clusters = 46 The average silhouette_score is : -0.036365064416275114\n",
      "For n_clusters = 47 The average silhouette_score is : -0.057101205923905315\n",
      "For n_clusters = 48 The average silhouette_score is : -0.058252665396020656\n",
      "For n_clusters = 49 The average silhouette_score is : -0.04067030299550077\n",
      "For n_clusters = 50 The average silhouette_score is : -0.056967578519490095\n",
      "For n_clusters = 51 The average silhouette_score is : -0.05996889994204608\n",
      "For n_clusters = 52 The average silhouette_score is : -0.0382861047112046\n",
      "For n_clusters = 53 The average silhouette_score is : -0.06263650502570016\n",
      "For n_clusters = 54 The average silhouette_score is : -0.030791008931121026\n",
      "For n_clusters = 55 The average silhouette_score is : -0.05259254163318483\n",
      "For n_clusters = 56 The average silhouette_score is : -0.0643977398097595\n",
      "For n_clusters = 57 The average silhouette_score is : -0.06240991258384234\n",
      "For n_clusters = 58 The average silhouette_score is : -0.06319577454363062\n",
      "For n_clusters = 59 The average silhouette_score is : -0.06675867708800103\n",
      "For n_clusters = 60 The average silhouette_score is : -0.031229558848016477\n",
      "For n_clusters = 61 The average silhouette_score is : -0.06071707253630794\n",
      "For n_clusters = 62 The average silhouette_score is : -0.062003959906533034\n",
      "For n_clusters = 63 The average silhouette_score is : -0.06271858421630719\n",
      "For n_clusters = 64 The average silhouette_score is : -0.06666034372354898\n",
      "For n_clusters = 65 The average silhouette_score is : -0.06054228372596048\n",
      "For n_clusters = 66 The average silhouette_score is : -0.062084595763585444\n",
      "For n_clusters = 67 The average silhouette_score is : -0.061594913882356196\n",
      "For n_clusters = 68 The average silhouette_score is : -0.06260426876613595\n",
      "For n_clusters = 69 The average silhouette_score is : -0.06573698160714418\n",
      "For n_clusters = 70 The average silhouette_score is : -0.06358136450339431\n",
      "For n_clusters = 71 The average silhouette_score is : -0.06133197951976328\n",
      "For n_clusters = 72 The average silhouette_score is : -0.059380395900020214\n",
      "For n_clusters = 73 The average silhouette_score is : -0.06240769455392811\n",
      "For n_clusters = 74 The average silhouette_score is : -0.060193791617116\n",
      "For n_clusters = 75 The average silhouette_score is : -0.061769763227149464\n",
      "For n_clusters = 76 The average silhouette_score is : -0.05857781147424594\n",
      "For n_clusters = 77 The average silhouette_score is : -0.06252166980912253\n",
      "For n_clusters = 78 The average silhouette_score is : -0.06592111445301999\n",
      "For n_clusters = 79 The average silhouette_score is : -0.06369636806208197\n",
      "For n_clusters = 80 The average silhouette_score is : -0.0591018199889914\n",
      "For n_clusters = 81 The average silhouette_score is : -0.06659589353824644\n",
      "For n_clusters = 82 The average silhouette_score is : -0.06403558966972248\n",
      "For n_clusters = 83 The average silhouette_score is : -0.06454753439393626\n",
      "For n_clusters = 84 The average silhouette_score is : -0.061973543483010235\n",
      "For n_clusters = 85 The average silhouette_score is : -0.06380164876208486\n",
      "For n_clusters = 86 The average silhouette_score is : -0.06522033619661455\n",
      "For n_clusters = 87 The average silhouette_score is : -0.058308412182822976\n",
      "For n_clusters = 88 The average silhouette_score is : -0.048724510108207476\n",
      "For n_clusters = 89 The average silhouette_score is : -0.05983435894772524\n",
      "For n_clusters = 90 The average silhouette_score is : -0.0656534121905942\n",
      "For n_clusters = 91 The average silhouette_score is : -0.0623141180638161\n",
      "For n_clusters = 92 The average silhouette_score is : -0.06082998066208843\n",
      "For n_clusters = 93 The average silhouette_score is : -0.06453715241018668\n",
      "For n_clusters = 94 The average silhouette_score is : -0.06764792238495618\n",
      "For n_clusters = 95 The average silhouette_score is : -0.0665304966127763\n",
      "For n_clusters = 96 The average silhouette_score is : -0.06745596148943331\n",
      "For n_clusters = 97 The average silhouette_score is : -0.06124071349036404\n",
      "For n_clusters = 98 The average silhouette_score is : -0.05924620373387969\n",
      "For n_clusters = 99 The average silhouette_score is : -0.04459859335684352\n",
      "For n_clusters = 100 The average silhouette_score is : -0.06361646607872876\n",
      "==================================================================\n",
      "Best score is 0.30800188841487086 for 2 clusters\n"
     ]
    }
   ],
   "source": [
    "best_number_cluster = 2\n",
    "best_score = 0\n",
    "for n_clusters in range (2, 101):\n",
    "    clusterer = KMeans(n_clusters=n_clusters, random_state=10)\n",
    "    cluster_labels = clusterer.fit_predict(uuc_cols)\n",
    "    silhouette_avg = silhouette_score(uuc_cols, cluster_labels)\n",
    "    if silhouette_avg > best_score :\n",
    "        best_score = silhouette_avg\n",
    "        best_number_cluster = n_clusters\n",
    "    print(\"For n_clusters =\", n_clusters,\n",
    "          \"The average silhouette_score is :\", silhouette_avg)\n",
    "    \n",
    "print('==================================================================')\n",
    "print('Best score is ' + str(best_score) + ' for ' + str(best_number_cluster) + ' clusters')"
   ]
  },
  {
   "cell_type": "markdown",
   "metadata": {},
   "source": [
    "**The best score is related for 2 cluster but also we can consider 4-cluster since the score from 3 to 4 cluster has increasement.**"
   ]
  },
  {
   "cell_type": "markdown",
   "metadata": {},
   "source": [
    "# Item-Item Collaborative Filtering Using k-Nearest Neighbors (kNN)"
   ]
  },
  {
   "cell_type": "code",
   "execution_count": 478,
   "metadata": {},
   "outputs": [
    {
     "data": {
      "text/plain": [
       "NearestNeighbors(algorithm='brute', leaf_size=30, metric='cosine',\n",
       "                 metric_params=None, n_jobs=None, n_neighbors=5, p=2,\n",
       "                 radius=1.0)"
      ]
     },
     "execution_count": 478,
     "metadata": {},
     "output_type": "execute_result"
    }
   ],
   "source": [
    "from sklearn.neighbors import NearestNeighbors\n",
    "\n",
    "model_knn = NearestNeighbors(metric = 'cosine', algorithm = 'brute')\n",
    "model_knn.fit(iic_cols)"
   ]
  },
  {
   "cell_type": "code",
   "execution_count": 574,
   "metadata": {},
   "outputs": [],
   "source": [
    "def recommend_movies(movie_name):\n",
    "    recommendation = []\n",
    "    query_index = df_user_rating_iic.reset_index()[df_user_rating_iic.reset_index().Title == movie_name].index\n",
    "    distances, indices = model_knn.kneighbors(df_user_rating_iic.iloc[query_index, :].values.reshape(1, -1), n_neighbors = 6)\n",
    "\n",
    "    for i in range(0, len(distances.flatten())):\n",
    "        if i == 0:\n",
    "            print('Recommendations for {0}:\\n'.format(df_user_rating_iic.index[query_index]))\n",
    "        else:\n",
    "            print('{0}: {1}, with distance of {2}:'.format(i, df_user_rating_iic.index[indices.flatten()[i]], distances.flatten()[i]))\n",
    "            recommendation.append( df_user_rating_iic.index[indices.flatten()[i]])\n",
    "    return recommendation"
   ]
  },
  {
   "cell_type": "code",
   "execution_count": 575,
   "metadata": {},
   "outputs": [
    {
     "name": "stdout",
     "output_type": "stream",
     "text": [
      "Recommendations for Index(['Rocky V (1990)'], dtype='object', name='Title'):\n",
      "\n",
      "1: Rocky IV (1985), with distance of 0.42650837523821294:\n",
      "2: Rocky III (1982), with distance of 0.4679171041160448:\n",
      "3: Rocky II (1979), with distance of 0.5045765058812857:\n",
      "4: Rambo III (1988), with distance of 0.5667442781172951:\n",
      "5: Karate Kid III, The (1989), with distance of 0.5928881696100177:\n"
     ]
    },
    {
     "data": {
      "text/plain": [
       "['Rocky IV (1985)',\n",
       " 'Rocky III (1982)',\n",
       " 'Rocky II (1979)',\n",
       " 'Rambo III (1988)',\n",
       " 'Karate Kid III, The (1989)']"
      ]
     },
     "execution_count": 575,
     "metadata": {},
     "output_type": "execute_result"
    }
   ],
   "source": [
    "recommend_movies('Rocky V (1990)')"
   ]
  },
  {
   "cell_type": "code",
   "execution_count": 571,
   "metadata": {},
   "outputs": [
    {
     "name": "stdout",
     "output_type": "stream",
     "text": [
      "Recommendations for Index(['Schindler's List (1993)'], dtype='object', name='Title'):\n",
      "\n",
      "1: Shawshank Redemption, The (1994), with distance of 0.3445898259350073:\n",
      "2: Silence of the Lambs, The (1991), with distance of 0.37369497885629266:\n",
      "3: Saving Private Ryan (1998), with distance of 0.3758010675271676:\n",
      "4: Fargo (1996), with distance of 0.38689747123020946:\n",
      "5: Pulp Fiction (1994), with distance of 0.4095661222616056:\n"
     ]
    },
    {
     "data": {
      "text/plain": [
       "['Shawshank Redemption, The (1994)',\n",
       " 'Silence of the Lambs, The (1991)',\n",
       " 'Saving Private Ryan (1998)',\n",
       " 'Fargo (1996)',\n",
       " 'Pulp Fiction (1994)']"
      ]
     },
     "execution_count": 571,
     "metadata": {},
     "output_type": "execute_result"
    }
   ],
   "source": [
    "#random name\n",
    "radom_index = np.random.choice(df_user_rating_iic.shape[0])\n",
    "random_name = df_user_rating_iic.iloc[radom_index].name\n",
    "recommend_movies(random_name)"
   ]
  },
  {
   "cell_type": "code",
   "execution_count": null,
   "metadata": {},
   "outputs": [],
   "source": []
  },
  {
   "cell_type": "code",
   "execution_count": null,
   "metadata": {},
   "outputs": [],
   "source": []
  },
  {
   "cell_type": "code",
   "execution_count": null,
   "metadata": {},
   "outputs": [],
   "source": []
  }
 ],
 "metadata": {
  "kernelspec": {
   "display_name": "Python 3",
   "language": "python",
   "name": "python3"
  },
  "language_info": {
   "codemirror_mode": {
    "name": "ipython",
    "version": 3
   },
   "file_extension": ".py",
   "mimetype": "text/x-python",
   "name": "python",
   "nbconvert_exporter": "python",
   "pygments_lexer": "ipython3",
   "version": "3.7.3"
  }
 },
 "nbformat": 4,
 "nbformat_minor": 2
}
